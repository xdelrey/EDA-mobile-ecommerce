{
 "cells": [
  {
   "cell_type": "markdown",
   "metadata": {},
   "source": [
    "# EDA - Mobile-Driven Purchase Behavior Analysis"
   ]
  },
  {
   "cell_type": "markdown",
   "metadata": {},
   "source": [
    "_A short exploratory data analysis (EDA) project exploring how mobile usage habits relate to online shopping behavior._"
   ]
  },
  {
   "cell_type": "markdown",
   "metadata": {},
   "source": [
    "### Objetivo"
   ]
  },
  {
   "cell_type": "markdown",
   "metadata": {},
   "source": [
    "Entender cómo los hábitos de uso de dispositivos móviles impactan el comportamiento de compra online para informar decisiones de producto, personalización y estrategia de notificaciones."
   ]
  },
  {
   "cell_type": "markdown",
   "metadata": {},
   "source": [
    "### Hipótesis (tentativa)"
   ]
  },
  {
   "cell_type": "markdown",
   "metadata": {},
   "source": [
    "## 📱 ➩ 🛒\n",
    "> *¿Hay una correlación entre el tiempo de uso de dispositivos móviles y el volumen de compras online?*\n",
    "---\n",
    "\n",
    "- **Tiempo en apps de compra ↔ volumen de compras**  \n",
    "  ¿Los usuarios que pasan más tiempo en apps de compras registran un mayor número de compras en el e-commerce?\n",
    "\n",
    "- **Notificaciones diarias ↔ tasa de conversión**  \n",
    "  ¿El número de notificaciones recibidas al día está relacionado con el ratio de conversión (vistas → compras)?\n",
    "\n",
    "- **Demografía y conversión**  \n",
    "  ¿Influyen la edad o el género en la probabilidad de convertir una vista en compra?\n",
    "\n",
    "- **Perfiles de carrito abandonado**  \n",
    "  ¿Existen segmentos de usuarios que añaden muchos productos al carrito pero no finalizan la compra? ¿Cómo se definen sus patrones de uso móvil?\n",
    "\n",
    "- **Sincronía horaria de uso y compra**  \n",
    "  ¿Se solapan las horas de mayor actividad en el móvil con las horas pico de compra online?"
   ]
  },
  {
   "cell_type": "markdown",
   "metadata": {},
   "source": [
    "### Datasets"
   ]
  },
  {
   "cell_type": "markdown",
   "metadata": {},
   "source": [
    "1. **Ecommerce User Behavior Data**  \n",
    "   – Source: Hugging Face  \n",
    "   – Link: https://huggingface.co/datasets/jin-ying-so-cute/ecommerce-user-behavior-data  \n",
    "   – Contiene ~35 M registros de interacciones en un e-commerce (vistas, carrito, compra, favoritos), con timestamp y categoría de producto.\n",
    "\n",
    "\n",
    "2. **Mobile Device Usage & User Behavior**  \n",
    "   – Source: Kaggle  \n",
    "   – Link: https://www.kaggle.com/datasets/valakhorasani/mobile-device-usage-and-user-behavior-dataset  \n",
    "   – Incluye tiempo diario en apps (redes, juegos, compras), notificaciones, número de apps instaladas y datos demográficos (edad, género, país, SO).\n"
   ]
  },
  {
   "cell_type": "markdown",
   "metadata": {},
   "source": [
    "Muestra mediante un head() los principales datasets con los que vas a trabajar"
   ]
  },
  {
   "cell_type": "code",
   "execution_count": null,
   "metadata": {},
   "outputs": [],
   "source": [
    "# Primer dataset\n",
    "# df_1.head()"
   ]
  },
  {
   "cell_type": "code",
   "execution_count": null,
   "metadata": {},
   "outputs": [],
   "source": [
    "# Siguiente dataset...\n",
    "# df_2.head()"
   ]
  }
 ],
 "metadata": {
  "kernelspec": {
   "display_name": "Python 3",
   "language": "python",
   "name": "python3"
  },
  "language_info": {
   "codemirror_mode": {
    "name": "ipython",
    "version": 3
   },
   "file_extension": ".py",
   "mimetype": "text/x-python",
   "name": "python",
   "nbconvert_exporter": "python",
   "pygments_lexer": "ipython3",
   "version": "3.11.0"
  },
  "orig_nbformat": 4
 },
 "nbformat": 4,
 "nbformat_minor": 2
}
