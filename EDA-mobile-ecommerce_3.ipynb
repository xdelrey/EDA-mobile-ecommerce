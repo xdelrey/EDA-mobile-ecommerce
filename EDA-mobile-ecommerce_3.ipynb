{
 "cells": [
  {
   "cell_type": "markdown",
   "metadata": {},
   "source": [
    "# EDA - Mobile-Driven Purchase Behavior Analysis 1"
   ]
  },
  {
   "cell_type": "markdown",
   "metadata": {},
   "source": [
    "_An exploratory data analysis (EDA) focused on identifying user behavior patterns related to mobile purchasing, buyer confidence, demographics, impulsive buying influenced by discounts, and the synchronization between mobile usage habits and online shopping activity._"
   ]
  },
  {
   "cell_type": "markdown",
   "metadata": {},
   "source": [
    "<div style=\"background-color:#cdcdcd;color:black;\">\n",
    "\n",
    "## 2. Hipótesis\n",
    "\n",
    "</div>"
   ]
  },
  {
   "cell_type": "markdown",
   "metadata": {},
   "source": [
    "- **Confianza del comprador** // Dataset 2<br>\n",
    "Los usuarios que compran desde el móvil previamente han comprado desde Desktop\n",
    "\n",
    "- **Confianza del comprador** // Dataset 2<br>\n",
    "Hay relación entre plazos de entrega previos y la repetición de compra?\n",
    "\n",
    "- **Perfil** // Dataset 2<br>\n",
    "Hay diferencias de género o edad entre los compradores 'mobile' recurrentes?\n",
    "\n",
    "- **Oferta** // Dataset 2<br>\n",
    "Hay categorías de producto que destaquen para la primera compra móvil?\n",
    "\n",
    "- **Compras impulsivas** // Dataset 2<br>\n",
    "Tienen más efecto los descuentos en las compras móviles que en las Desktop?\n",
    "\n",
    "- **Sincronía horaria de uso y compra** // Datasets 1 y 2 <br>\n",
    "  ¿Se solapan las horas de mayor actividad en el móvil con las horas pico de compra online?\n"
   ]
  },
  {
   "cell_type": "code",
   "execution_count": 1,
   "metadata": {},
   "outputs": [],
   "source": [
    "import numpy as np\n",
    "import pandas as pd\n",
    "import matplotlib.pyplot as plt\n",
    "import seaborn as sns\n",
    "import time"
   ]
  },
  {
   "cell_type": "code",
   "execution_count": 2,
   "metadata": {},
   "outputs": [
    {
     "name": "stdout",
     "output_type": "stream",
     "text": [
      "<class 'pandas.core.frame.DataFrame'>\n",
      "RangeIndex: 51282 entries, 0 to 51281\n",
      "Data columns (total 16 columns):\n",
      " #   Column               Non-Null Count  Dtype  \n",
      "---  ------               --------------  -----  \n",
      " 0   order_date           51282 non-null  object \n",
      " 1   time                 51282 non-null  object \n",
      " 2   aging                51282 non-null  float64\n",
      " 3   customer_id          51282 non-null  int64  \n",
      " 4   gender               51282 non-null  object \n",
      " 5   device_type          51282 non-null  object \n",
      " 6   customer_login_type  51282 non-null  object \n",
      " 7   product_category     51282 non-null  object \n",
      " 8   product              51282 non-null  object \n",
      " 9   sales                51282 non-null  float64\n",
      " 10  quantity             51282 non-null  float64\n",
      " 11  discount             51282 non-null  float64\n",
      " 12  profit               51282 non-null  float64\n",
      " 13  shipping_cost        51282 non-null  float64\n",
      " 14  order_priority       51282 non-null  object \n",
      " 15  payment_method       51282 non-null  object \n",
      "dtypes: float64(6), int64(1), object(9)\n",
      "memory usage: 6.3+ MB\n"
     ]
    }
   ],
   "source": [
    "# Cargo el CSV del Dataset 2 limpio.\n",
    "df_2c = pd.read_csv('data\\cleaned_ecommerce.csv')\n",
    "df_2c.info()"
   ]
  },
  {
   "cell_type": "code",
   "execution_count": 3,
   "metadata": {},
   "outputs": [
    {
     "name": "stdout",
     "output_type": "stream",
     "text": [
      "<class 'pandas.core.frame.DataFrame'>\n",
      "RangeIndex: 51282 entries, 0 to 51281\n",
      "Data columns (total 16 columns):\n",
      " #   Column               Non-Null Count  Dtype   \n",
      "---  ------               --------------  -----   \n",
      " 0   order_date           51282 non-null  object  \n",
      " 1   time                 51282 non-null  object  \n",
      " 2   aging                51282 non-null  float64 \n",
      " 3   customer_id          51282 non-null  int64   \n",
      " 4   gender               51282 non-null  category\n",
      " 5   device_type          51282 non-null  category\n",
      " 6   customer_login_type  51282 non-null  category\n",
      " 7   product_category     51282 non-null  category\n",
      " 8   product              51282 non-null  object  \n",
      " 9   sales                51282 non-null  float64 \n",
      " 10  quantity             51282 non-null  float64 \n",
      " 11  discount             51282 non-null  float64 \n",
      " 12  profit               51282 non-null  float64 \n",
      " 13  shipping_cost        51282 non-null  float64 \n",
      " 14  order_priority       51282 non-null  category\n",
      " 15  payment_method       51282 non-null  category\n",
      "dtypes: category(6), float64(6), int64(1), object(3)\n",
      "memory usage: 4.2+ MB\n"
     ]
    }
   ],
   "source": [
    "# Convierto a category algunas de las columnas object para que podamos trabajar mejor con ellas\n",
    "\n",
    "# Columnas categóricas en df_2\n",
    "cat_cols_df2 = ['gender', 'device_type', 'customer_login_type', 'product_category', 'order_priority', 'payment_method']\n",
    "\n",
    "# Función para limpiar valores de texto/categoría   \n",
    "def limpiar_categorias(df, columnas):\n",
    "    for col in columnas:\n",
    "        if df[col].dtype.name in ['object', 'category']:\n",
    "            df[col] = df[col].str.strip().str.lower() # al aplicarle métodos de string se convierte en tipo object\n",
    "            df[col] = df[col].astype('category') # volvemos a convertir a category (no es lo óptimo) :-/\n",
    "    return df\n",
    "\n",
    "# Aplicamos al dataframe\n",
    "df_2c = limpiar_categorias(df_2c, cat_cols_df2)\n",
    "df_2c.info()\n"
   ]
  },
  {
   "cell_type": "markdown",
   "metadata": {},
   "source": [
    "<div style=\"background-color:#cdcdcd;color:black;\">\n",
    "\n",
    "## 5. Análisis específico de las Hipótesis\n",
    "</div>"
   ]
  },
  {
   "cell_type": "markdown",
   "metadata": {},
   "source": [
    "<div style=\"background-color:#909090;color:black;\">\n",
    "\n",
    "### Hipótesis 1. Confianza del comprador\n",
    "#### Los usuarios que compran desde el móvil previamente han comprado desde Desktop\n",
    "</div>\n",
    "\n",
    "Para verificar esta hipótesis voy a dar los siguientes pasos:\n",
    "1. Filtramos los usuarios que hayan comprado al menos una vez por móvil.\n",
    "2. Para cada usuario, identificamos la fecha de su primera compra móvil.\n",
    "3. Comprobamos si antes de esa fecha el usuario había comprado por Desktop.\n",
    "4. Calculamos el porcentaje de casos que cumplen la hipótesis\n",
    "\n",
    "# 1. identificar la primera compra de los usuarios recurrentes y guardarlos en un dataframe\n",
    "# 2. identificar aquellos usuarios recurrentes que han comprado alguna vez desde el móvil\n",
    "# 3. comprobar si antes de la compra por móvil habían comprado previamente o no desde la web"
   ]
  },
  {
   "cell_type": "code",
   "execution_count": 42,
   "metadata": {},
   "outputs": [
    {
     "name": "stdout",
     "output_type": "stream",
     "text": [
      "       order_date      time  aging  customer_id gender device_type  \\\n",
      "23838  2018-09-24  22:29:48    8.0        44699   male      mobile   \n",
      "\n",
      "      customer_login_type product_category      product  sales  quantity  \\\n",
      "23838              member          fashion  Sports Wear   85.0       1.0   \n",
      "\n",
      "       discount  profit  shipping_cost order_priority payment_method  \\\n",
      "23838       0.3    28.3            2.8           high    money_order   \n",
      "\n",
      "           order_datetime  \n",
      "23838 2018-09-24 22:29:48  \n",
      "# compras: 51282\n",
      "# compras desde móvil: 3658\n",
      "# compradores únicos desde móvil: 3557\n"
     ]
    }
   ],
   "source": [
    "# 1. Filtramos los usuarios que hayan comprado al menos una vez por móvil.\n",
    "\n",
    "# 1.1 Primero creamos una columna nueva que unifica fecha y hora y sea de tipo datetime\n",
    "df_2c['order_datetime'] = pd.to_datetime(df_2c['order_date'].astype(str) + ' ' + df_2c['time'].astype(str))\n",
    "\n",
    "# 1.2 filtramos a un dataframe las compras hechas desde el móvil\n",
    "mobile_sales_df = df_2c[df_2c['device_type'] == 'mobile']\n",
    "print(mobile_sales_df.head(1))\n",
    "\n",
    "# 1.3. guardamos los IDs únicos de quienes han comprado vía móvil\n",
    "mobile_customers = mobile_sales_df['customer_id'].unique()\n",
    "\n",
    "total_purchases = len(df_2c)\n",
    "print('# compras:', total_purchases)\n",
    "total_mobile_purchases = len(mobile_sales_df)\n",
    "print('# compras desde móvil:', total_mobile_purchases)\n",
    "total_mobile_users = len(mobile_customers)\n",
    "print('# compradores únicos desde móvil:', total_mobile_users)"
   ]
  },
  {
   "cell_type": "code",
   "execution_count": 43,
   "metadata": {},
   "outputs": [],
   "source": [
    "# 2. Para cada usuario, identificamos la fecha de su primera compra móvil.\n",
    "\n",
    "# 2.1. Ordenamos por usuario y datetime\n",
    "mobile_sales_df = mobile_sales_df.sort_values(['customer_id', 'order_datetime'])\n",
    "\n",
    "# 2.2. Seleccionamos la primera compra móvil de cada usuario\n",
    "first_mobile_purchase = mobile_sales_df.drop_duplicates(subset=['customer_id'], keep='first')\n"
   ]
  },
  {
   "cell_type": "code",
   "execution_count": 68,
   "metadata": {},
   "outputs": [
    {
     "name": "stdout",
     "output_type": "stream",
     "text": [
      "# compras desde web: 47624\n",
      "# compras web de usuarios que también han comprado vía móvil: 1979\n",
      "# compras web anteriores a la primera compra móvil: 989\n",
      "\n",
      "RESULTADO DE LA HIPÓTESIS 1:\n",
      "\"Los usuarios que compran desde el móvil previamente han comprado desde Desktop\"\n",
      "\n",
      "\t- Número de compradores únicos desde móvil: 3557\n",
      "\t- Número de personas que compraron vía desktop antes que vía móvil: 821\n",
      "\t- Porcentaje de personas que compran desde desktop antes de comprar desde móvil: 23.08 %\n"
     ]
    }
   ],
   "source": [
    "# 3. Comprobamos si antes de esa fecha el usuario había comprado por Desktop.\n",
    "\n",
    "# 3.1. Guardamos en un dataframe solo las compras desde la 'web' (Desktop)\n",
    "desktop_sales_df = df_2c[df_2c['device_type'] == 'web']\n",
    "total_desktop_purchases = len(desktop_sales_df)\n",
    "print('# compras desde web:', total_desktop_purchases)\n",
    "\n",
    "# 3.2. Hacemos merge para asociar la fecha de primera compra móvil a cada usuario\n",
    "merged_df = pd.merge(\n",
    "    first_mobile_purchase[['customer_id', 'order_datetime']],\n",
    "    desktop_sales_df,\n",
    "    on='customer_id',\n",
    "    suffixes=('_mobile', '_desktop')\n",
    ")\n",
    "total_desktop_mobile_purchases = len(merged_df)\n",
    "print('# compras web de usuarios que también han comprado vía móvil:', total_desktop_mobile_purchases)\n",
    "\n",
    "# 3.3. Buscamos compras Desktop previas a la primera compra móvil de cada usuario\n",
    "merged_df = merged_df[merged_df['order_datetime_desktop'] < merged_df['order_datetime_mobile']]\n",
    "total_desktop_purchases_prior_mobile = len(merged_df)\n",
    "print('# compras web anteriores a la primera compra móvil:', total_desktop_purchases_prior_mobile)\n",
    "\n",
    "################### RESULTADO DE LA HIPÓTESIS ###################\n",
    "\n",
    "print('\\nRESULTADO DE LA HIPÓTESIS 1:' \\\n",
    "'\\n\"Los usuarios que compran desde el móvil previamente han comprado desde Desktop\"')\n",
    "\n",
    "# 3.4. Guardamos aquellos usuarios que han comprado en Desktop antes que en móvil\n",
    "users_with_prior_desktop = merged_df['customer_id'].unique()\n",
    "total_users_with_prior_desktop = len(users_with_prior_desktop)\n",
    "\n",
    "# 3.5. Cálculo del % que cumplen la hipótesis\n",
    "percent_with_prior_desktop = (total_users_with_prior_desktop / total_mobile_users) * 100\n",
    "\n",
    "print('\\n\\t- Número de compradores únicos desde móvil:', total_mobile_users)\n",
    "print('\\t- Número de personas que compraron vía desktop antes que vía móvil:', total_users_with_prior_desktop)\n",
    "print(f'\\t- Porcentaje de personas que compran desde desktop antes de comprar desde móvil: {percent_with_prior_desktop:.2f} %')"
   ]
  },
  {
   "cell_type": "code",
   "execution_count": null,
   "metadata": {},
   "outputs": [],
   "source": []
  }
 ],
 "metadata": {
  "kernelspec": {
   "display_name": "Python 3",
   "language": "python",
   "name": "python3"
  },
  "language_info": {
   "codemirror_mode": {
    "name": "ipython",
    "version": 3
   },
   "file_extension": ".py",
   "mimetype": "text/x-python",
   "name": "python",
   "nbconvert_exporter": "python",
   "pygments_lexer": "ipython3",
   "version": "3.11.0"
  },
  "orig_nbformat": 4
 },
 "nbformat": 4,
 "nbformat_minor": 2
}
