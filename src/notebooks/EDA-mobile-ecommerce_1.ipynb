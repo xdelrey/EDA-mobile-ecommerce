{
 "cells": [
  {
   "cell_type": "markdown",
   "metadata": {},
   "source": [
    "# EDA - Mobile-Driven Purchase Behavior Analysis 1"
   ]
  },
  {
   "cell_type": "markdown",
   "metadata": {},
   "source": [
    "_An exploratory data analysis (EDA) focused on identifying user behavior patterns related to mobile purchasing, buyer confidence, demographics, impulsive buying influenced by discounts, and the synchronization between mobile usage habits and online shopping activity._"
   ]
  },
  {
   "cell_type": "markdown",
   "metadata": {},
   "source": [
    "<img src=\"https://www.itexchangeweb.com/blog/wp-content/uploads/2017/12/image-blog.png\" width=\"90%\">"
   ]
  },
  {
   "cell_type": "markdown",
   "metadata": {},
   "source": [
    "<div style=\"background-color:#cdcdcd;color:black;\">\n",
    "\n",
    "## 1.  Objetivo\n",
    "\n",
    "</div>"
   ]
  },
  {
   "cell_type": "markdown",
   "metadata": {},
   "source": [
    "El CEO de una empresa de ecommerce está preocupado por la baja retención de los compradores y usuarios. Se ha propuesto poner en marcha 3 lineas de actuación con los siguientes objetivos:\n",
    "1. Hacer más atractivo el catálogo de productos ofertados.\n",
    "2. Mejorar la usabilidad de la web.\n",
    "3. Aumentar el ratio de usuarios que compran a través de su app y de la versión móvil de su web.\n",
    "\n",
    "En relación al tercer punto, han visto que la proporción del uso móvil es menor de lo habitual en el sector, y quieren analizar los datos que ya tienen de sus usuarios para sacar patrones que ayuden al equipo de producto y de marketing a tomar decisiones sobre estrategias a implementar.\n",
    "\n",
    "Por una parte, el equipo de marketing lanzó una aplicación independiente del ecommerce que utilizan tan sólo para recabar información de usuarios, además de para enviarles publicidad y promociones, con la que han logrado tener datos del uso de los dispositivos móviles de los usuarios.\n",
    "\n",
    "Por otra parte, tienen el registro de las operaciones de compra del ecommerce durante un año, en el que tienen identificados aquellos que han comprado a través de dispositivos móviles y de los cuales conocen su edad, género, tipo de dispositivo, etc."
   ]
  },
  {
   "cell_type": "markdown",
   "metadata": {},
   "source": [
    "<div style=\"background-color:#cdcdcd;color:black;\">\n",
    "\n",
    "## 2. Hipótesis\n",
    "\n",
    "</div>"
   ]
  },
  {
   "cell_type": "markdown",
   "metadata": {},
   "source": [
    "- **Confianza del comprador** // Dataset 2<br>\n",
    "Los usuarios que compran desde el móvil previamente han comprado desde Desktop\n",
    "\n",
    "- **Confianza del comprador** // Dataset 2<br>\n",
    "Hay relación entre plazos de entrega previos y la repetición de compra?\n",
    "\n",
    "- **Perfil** // Dataset 2<br>\n",
    "Hay diferencias de género o edad entre los compradores 'mobile' recurrentes?\n",
    "\n",
    "- **Oferta** // Dataset 2<br>\n",
    "Hay categorías de producto que destaquen para la primera compra móvil?\n",
    "\n",
    "- **Compras impulsivas** // Dataset 2<br>\n",
    "Tienen más efecto los descuentos en las compras móviles que en las Desktop?\n",
    "\n",
    "- **Sincronía horaria de uso y compra** // Datasets 1 y 2 <br>\n",
    "  ¿Se solapan las horas de mayor actividad en el móvil con las horas pico de compra online?\n"
   ]
  },
  {
   "cell_type": "code",
   "execution_count": 2,
   "metadata": {},
   "outputs": [],
   "source": [
    "import numpy as np\n",
    "import pandas as pd\n",
    "import matplotlib.pyplot as plt\n",
    "import seaborn as sns\n",
    "import time"
   ]
  },
  {
   "cell_type": "markdown",
   "metadata": {},
   "source": [
    "<div style=\"background-color:#cdcdcd;color:black;\">\n",
    "\n",
    "## 3. Procesamiento y limpieza de Datasets\n",
    "\n",
    "</div>"
   ]
  },
  {
   "cell_type": "markdown",
   "metadata": {},
   "source": [
    "<div style=\"background-color:#909090;color:black;\">\n",
    "\n",
    "### 3.1. Dataset 1. Mobile Device Usage & User Behavior\n",
    "</div>\n",
    "\n",
    "   – Fuente: Kaggle  \n",
    "   – Link: https://www.kaggle.com/datasets/valakhorasani/mobile-device-usage-and-user-behavior-dataset\n",
    "\n",
    "\n",
    "#### 3.1.1. Resumen:\n",
    "El dataset contiene 700 muestras sobre patrones de uso de dispositivos móviles y clasifica a los usuarios en cinco niveles de comportamiento, desde uso ligero hasta extremo. Incluye datos como tiempo diario de uso de apps, horas con pantalla activa, consumo de batería y datos móviles, además de características demográficas como edad y género. Cada usuario está identificado con un ID único, modelo de dispositivo y sistema operativo (iOS o Android).\n",
    "\n",
    "#### 3.1.2. Descripción de los Datos:\n",
    "- **ID de usuario**: Identificador único de cada usuario.\n",
    "- **Modelo del dispositivo**: Modelo del smartphone del usuario.\n",
    "- **Sistema operativo**: El sistema operativo del dispositivo (iOS o Android).\n",
    "- **Tiempo de uso de aplicaciones**: Tiempo diario dedicado a aplicaciones móviles, medido en minutos.\n",
    "- **Tiempo con la pantalla encendida**: Promedio de horas diarias que la pantalla está activa.\n",
    "- **Consumo de batería**: Consumo diario de batería en mAh.\n",
    "- **Número de aplicaciones instaladas**: Total de aplicaciones disponibles en el dispositivo.\n",
    "- **Uso de datos**: Consumo diario de datos móviles en megabytes.\n",
    "- **Edad**: Edad del usuario.\n",
    "- **Género**: Sexo del usuario (hombre o mujer).\n",
    "- **Clase de comportamiento del usuario**: Clasificación del comportamiento del usuario según patrones de uso (1 a 5)."
   ]
  },
  {
   "cell_type": "code",
   "execution_count": 3,
   "metadata": {},
   "outputs": [
    {
     "data": {
      "text/html": [
       "<div>\n",
       "<style scoped>\n",
       "    .dataframe tbody tr th:only-of-type {\n",
       "        vertical-align: middle;\n",
       "    }\n",
       "\n",
       "    .dataframe tbody tr th {\n",
       "        vertical-align: top;\n",
       "    }\n",
       "\n",
       "    .dataframe thead th {\n",
       "        text-align: right;\n",
       "    }\n",
       "</style>\n",
       "<table border=\"1\" class=\"dataframe\">\n",
       "  <thead>\n",
       "    <tr style=\"text-align: right;\">\n",
       "      <th></th>\n",
       "      <th>User ID</th>\n",
       "      <th>Device Model</th>\n",
       "      <th>Operating System</th>\n",
       "      <th>App Usage Time (min/day)</th>\n",
       "      <th>Screen On Time (hours/day)</th>\n",
       "      <th>Battery Drain (mAh/day)</th>\n",
       "      <th>Number of Apps Installed</th>\n",
       "      <th>Data Usage (MB/day)</th>\n",
       "      <th>Age</th>\n",
       "      <th>Gender</th>\n",
       "      <th>User Behavior Class</th>\n",
       "    </tr>\n",
       "  </thead>\n",
       "  <tbody>\n",
       "    <tr>\n",
       "      <th>0</th>\n",
       "      <td>1</td>\n",
       "      <td>Google Pixel 5</td>\n",
       "      <td>Android</td>\n",
       "      <td>393</td>\n",
       "      <td>6.4</td>\n",
       "      <td>1872</td>\n",
       "      <td>67</td>\n",
       "      <td>1122</td>\n",
       "      <td>40</td>\n",
       "      <td>Male</td>\n",
       "      <td>4</td>\n",
       "    </tr>\n",
       "    <tr>\n",
       "      <th>1</th>\n",
       "      <td>2</td>\n",
       "      <td>OnePlus 9</td>\n",
       "      <td>Android</td>\n",
       "      <td>268</td>\n",
       "      <td>4.7</td>\n",
       "      <td>1331</td>\n",
       "      <td>42</td>\n",
       "      <td>944</td>\n",
       "      <td>47</td>\n",
       "      <td>Female</td>\n",
       "      <td>3</td>\n",
       "    </tr>\n",
       "    <tr>\n",
       "      <th>2</th>\n",
       "      <td>3</td>\n",
       "      <td>Xiaomi Mi 11</td>\n",
       "      <td>Android</td>\n",
       "      <td>154</td>\n",
       "      <td>4.0</td>\n",
       "      <td>761</td>\n",
       "      <td>32</td>\n",
       "      <td>322</td>\n",
       "      <td>42</td>\n",
       "      <td>Male</td>\n",
       "      <td>2</td>\n",
       "    </tr>\n",
       "    <tr>\n",
       "      <th>3</th>\n",
       "      <td>4</td>\n",
       "      <td>Google Pixel 5</td>\n",
       "      <td>Android</td>\n",
       "      <td>239</td>\n",
       "      <td>4.8</td>\n",
       "      <td>1676</td>\n",
       "      <td>56</td>\n",
       "      <td>871</td>\n",
       "      <td>20</td>\n",
       "      <td>Male</td>\n",
       "      <td>3</td>\n",
       "    </tr>\n",
       "    <tr>\n",
       "      <th>4</th>\n",
       "      <td>5</td>\n",
       "      <td>iPhone 12</td>\n",
       "      <td>iOS</td>\n",
       "      <td>187</td>\n",
       "      <td>4.3</td>\n",
       "      <td>1367</td>\n",
       "      <td>58</td>\n",
       "      <td>988</td>\n",
       "      <td>31</td>\n",
       "      <td>Female</td>\n",
       "      <td>3</td>\n",
       "    </tr>\n",
       "  </tbody>\n",
       "</table>\n",
       "</div>"
      ],
      "text/plain": [
       "   User ID    Device Model Operating System  App Usage Time (min/day)  \\\n",
       "0        1  Google Pixel 5          Android                       393   \n",
       "1        2       OnePlus 9          Android                       268   \n",
       "2        3    Xiaomi Mi 11          Android                       154   \n",
       "3        4  Google Pixel 5          Android                       239   \n",
       "4        5       iPhone 12              iOS                       187   \n",
       "\n",
       "   Screen On Time (hours/day)  Battery Drain (mAh/day)  \\\n",
       "0                         6.4                     1872   \n",
       "1                         4.7                     1331   \n",
       "2                         4.0                      761   \n",
       "3                         4.8                     1676   \n",
       "4                         4.3                     1367   \n",
       "\n",
       "   Number of Apps Installed  Data Usage (MB/day)  Age  Gender  \\\n",
       "0                        67                 1122   40    Male   \n",
       "1                        42                  944   47  Female   \n",
       "2                        32                  322   42    Male   \n",
       "3                        56                  871   20    Male   \n",
       "4                        58                  988   31  Female   \n",
       "\n",
       "   User Behavior Class  \n",
       "0                    4  \n",
       "1                    3  \n",
       "2                    2  \n",
       "3                    3  \n",
       "4                    3  "
      ]
     },
     "execution_count": 3,
     "metadata": {},
     "output_type": "execute_result"
    }
   ],
   "source": [
    "df_1 = pd.read_csv('data/user_behavior_dataset.csv')\n",
    "df_1.head()"
   ]
  },
  {
   "cell_type": "code",
   "execution_count": 4,
   "metadata": {},
   "outputs": [
    {
     "name": "stdout",
     "output_type": "stream",
     "text": [
      "<class 'pandas.core.frame.DataFrame'>\n",
      "RangeIndex: 700 entries, 0 to 699\n",
      "Data columns (total 11 columns):\n",
      " #   Column                      Non-Null Count  Dtype  \n",
      "---  ------                      --------------  -----  \n",
      " 0   User ID                     700 non-null    int64  \n",
      " 1   Device Model                700 non-null    object \n",
      " 2   Operating System            700 non-null    object \n",
      " 3   App Usage Time (min/day)    700 non-null    int64  \n",
      " 4   Screen On Time (hours/day)  700 non-null    float64\n",
      " 5   Battery Drain (mAh/day)     700 non-null    int64  \n",
      " 6   Number of Apps Installed    700 non-null    int64  \n",
      " 7   Data Usage (MB/day)         700 non-null    int64  \n",
      " 8   Age                         700 non-null    int64  \n",
      " 9   Gender                      700 non-null    object \n",
      " 10  User Behavior Class         700 non-null    int64  \n",
      "dtypes: float64(1), int64(7), object(3)\n",
      "memory usage: 60.3+ KB\n"
     ]
    }
   ],
   "source": [
    "df_1.info()"
   ]
  },
  {
   "cell_type": "code",
   "execution_count": 5,
   "metadata": {},
   "outputs": [
    {
     "data": {
      "text/html": [
       "<div>\n",
       "<style scoped>\n",
       "    .dataframe tbody tr th:only-of-type {\n",
       "        vertical-align: middle;\n",
       "    }\n",
       "\n",
       "    .dataframe tbody tr th {\n",
       "        vertical-align: top;\n",
       "    }\n",
       "\n",
       "    .dataframe thead th {\n",
       "        text-align: right;\n",
       "    }\n",
       "</style>\n",
       "<table border=\"1\" class=\"dataframe\">\n",
       "  <thead>\n",
       "    <tr style=\"text-align: right;\">\n",
       "      <th></th>\n",
       "      <th>User ID</th>\n",
       "      <th>App Usage Time (min/day)</th>\n",
       "      <th>Screen On Time (hours/day)</th>\n",
       "      <th>Battery Drain (mAh/day)</th>\n",
       "      <th>Number of Apps Installed</th>\n",
       "      <th>Data Usage (MB/day)</th>\n",
       "      <th>Age</th>\n",
       "      <th>User Behavior Class</th>\n",
       "    </tr>\n",
       "  </thead>\n",
       "  <tbody>\n",
       "    <tr>\n",
       "      <th>count</th>\n",
       "      <td>700.00000</td>\n",
       "      <td>700.000000</td>\n",
       "      <td>700.000000</td>\n",
       "      <td>700.000000</td>\n",
       "      <td>700.000000</td>\n",
       "      <td>700.000000</td>\n",
       "      <td>700.000000</td>\n",
       "      <td>700.000000</td>\n",
       "    </tr>\n",
       "    <tr>\n",
       "      <th>mean</th>\n",
       "      <td>350.50000</td>\n",
       "      <td>271.128571</td>\n",
       "      <td>5.272714</td>\n",
       "      <td>1525.158571</td>\n",
       "      <td>50.681429</td>\n",
       "      <td>929.742857</td>\n",
       "      <td>38.482857</td>\n",
       "      <td>2.990000</td>\n",
       "    </tr>\n",
       "    <tr>\n",
       "      <th>std</th>\n",
       "      <td>202.21688</td>\n",
       "      <td>177.199484</td>\n",
       "      <td>3.068584</td>\n",
       "      <td>819.136414</td>\n",
       "      <td>26.943324</td>\n",
       "      <td>640.451729</td>\n",
       "      <td>12.012916</td>\n",
       "      <td>1.401476</td>\n",
       "    </tr>\n",
       "    <tr>\n",
       "      <th>min</th>\n",
       "      <td>1.00000</td>\n",
       "      <td>30.000000</td>\n",
       "      <td>1.000000</td>\n",
       "      <td>302.000000</td>\n",
       "      <td>10.000000</td>\n",
       "      <td>102.000000</td>\n",
       "      <td>18.000000</td>\n",
       "      <td>1.000000</td>\n",
       "    </tr>\n",
       "    <tr>\n",
       "      <th>25%</th>\n",
       "      <td>175.75000</td>\n",
       "      <td>113.250000</td>\n",
       "      <td>2.500000</td>\n",
       "      <td>722.250000</td>\n",
       "      <td>26.000000</td>\n",
       "      <td>373.000000</td>\n",
       "      <td>28.000000</td>\n",
       "      <td>2.000000</td>\n",
       "    </tr>\n",
       "    <tr>\n",
       "      <th>50%</th>\n",
       "      <td>350.50000</td>\n",
       "      <td>227.500000</td>\n",
       "      <td>4.900000</td>\n",
       "      <td>1502.500000</td>\n",
       "      <td>49.000000</td>\n",
       "      <td>823.500000</td>\n",
       "      <td>38.000000</td>\n",
       "      <td>3.000000</td>\n",
       "    </tr>\n",
       "    <tr>\n",
       "      <th>75%</th>\n",
       "      <td>525.25000</td>\n",
       "      <td>434.250000</td>\n",
       "      <td>7.400000</td>\n",
       "      <td>2229.500000</td>\n",
       "      <td>74.000000</td>\n",
       "      <td>1341.000000</td>\n",
       "      <td>49.000000</td>\n",
       "      <td>4.000000</td>\n",
       "    </tr>\n",
       "    <tr>\n",
       "      <th>max</th>\n",
       "      <td>700.00000</td>\n",
       "      <td>598.000000</td>\n",
       "      <td>12.000000</td>\n",
       "      <td>2993.000000</td>\n",
       "      <td>99.000000</td>\n",
       "      <td>2497.000000</td>\n",
       "      <td>59.000000</td>\n",
       "      <td>5.000000</td>\n",
       "    </tr>\n",
       "  </tbody>\n",
       "</table>\n",
       "</div>"
      ],
      "text/plain": [
       "         User ID  App Usage Time (min/day)  Screen On Time (hours/day)  \\\n",
       "count  700.00000                700.000000                  700.000000   \n",
       "mean   350.50000                271.128571                    5.272714   \n",
       "std    202.21688                177.199484                    3.068584   \n",
       "min      1.00000                 30.000000                    1.000000   \n",
       "25%    175.75000                113.250000                    2.500000   \n",
       "50%    350.50000                227.500000                    4.900000   \n",
       "75%    525.25000                434.250000                    7.400000   \n",
       "max    700.00000                598.000000                   12.000000   \n",
       "\n",
       "       Battery Drain (mAh/day)  Number of Apps Installed  Data Usage (MB/day)  \\\n",
       "count               700.000000                700.000000           700.000000   \n",
       "mean               1525.158571                 50.681429           929.742857   \n",
       "std                 819.136414                 26.943324           640.451729   \n",
       "min                 302.000000                 10.000000           102.000000   \n",
       "25%                 722.250000                 26.000000           373.000000   \n",
       "50%                1502.500000                 49.000000           823.500000   \n",
       "75%                2229.500000                 74.000000          1341.000000   \n",
       "max                2993.000000                 99.000000          2497.000000   \n",
       "\n",
       "              Age  User Behavior Class  \n",
       "count  700.000000           700.000000  \n",
       "mean    38.482857             2.990000  \n",
       "std     12.012916             1.401476  \n",
       "min     18.000000             1.000000  \n",
       "25%     28.000000             2.000000  \n",
       "50%     38.000000             3.000000  \n",
       "75%     49.000000             4.000000  \n",
       "max     59.000000             5.000000  "
      ]
     },
     "execution_count": 5,
     "metadata": {},
     "output_type": "execute_result"
    }
   ],
   "source": [
    "df_1.describe()"
   ]
  },
  {
   "cell_type": "markdown",
   "metadata": {},
   "source": [
    "#### 3.1.3 Comprobación de datos nulos o duplicados"
   ]
  },
  {
   "cell_type": "markdown",
   "metadata": {},
   "source": [
    "Comprobamos si hay datos nulos en el Dataset 1 y si existen registrors duplicados."
   ]
  },
  {
   "cell_type": "code",
   "execution_count": 6,
   "metadata": {},
   "outputs": [
    {
     "name": "stdout",
     "output_type": "stream",
     "text": [
      "Valores nulos en el Dataset 1:\n",
      " User ID                       0\n",
      "Device Model                  0\n",
      "Operating System              0\n",
      "App Usage Time (min/day)      0\n",
      "Screen On Time (hours/day)    0\n",
      "Battery Drain (mAh/day)       0\n",
      "Number of Apps Installed      0\n",
      "Data Usage (MB/day)           0\n",
      "Age                           0\n",
      "Gender                        0\n",
      "User Behavior Class           0\n",
      "dtype: int64\n"
     ]
    }
   ],
   "source": [
    "#comprobamos si hay datos nulos\n",
    "print('Valores nulos en el Dataset 1:\\n',\n",
    "      df_1.isnull().sum()\n",
    "      )"
   ]
  },
  {
   "cell_type": "code",
   "execution_count": 7,
   "metadata": {},
   "outputs": [
    {
     "name": "stdout",
     "output_type": "stream",
     "text": [
      "Valores duplicados en el Dataset 1: 0\n"
     ]
    }
   ],
   "source": [
    "#comprobando si hay datos duplicados\n",
    "print('Valores duplicados en el Dataset 1:',\n",
    "      df_1.duplicated().sum()\n",
    "      )"
   ]
  },
  {
   "cell_type": "markdown",
   "metadata": {},
   "source": [
    "- No hay datos nulos en el Dataset 1, tal como hemos visto también previamente en info().\n",
    "- No hay datos duplicados en el Dataset 1."
   ]
  },
  {
   "cell_type": "markdown",
   "metadata": {},
   "source": [
    "#### 3.1.4 Corrección de datos incorrectos y estandarización"
   ]
  },
  {
   "cell_type": "markdown",
   "metadata": {},
   "source": [
    "**Tipos: Object → Category**<br>\n",
    "Primero, comprobamos los tipos de las diferentes variables, de manera que podamos seleccionar aquellas de tipo 'object' y convertimos las que tienen pocos valores diferentes en variables de tipo 'category', ya que nos facilitará más adelante crear visualizaciones."
   ]
  },
  {
   "cell_type": "code",
   "execution_count": 8,
   "metadata": {},
   "outputs": [
    {
     "data": {
      "text/plain": [
       "User ID                         int64\n",
       "Device Model                   object\n",
       "Operating System               object\n",
       "App Usage Time (min/day)        int64\n",
       "Screen On Time (hours/day)    float64\n",
       "Battery Drain (mAh/day)         int64\n",
       "Number of Apps Installed        int64\n",
       "Data Usage (MB/day)             int64\n",
       "Age                             int64\n",
       "Gender                         object\n",
       "User Behavior Class             int64\n",
       "dtype: object"
      ]
     },
     "execution_count": 8,
     "metadata": {},
     "output_type": "execute_result"
    }
   ],
   "source": [
    "# comprobamos los tipos de las diferentes variables\n",
    "df_1.dtypes"
   ]
  },
  {
   "cell_type": "code",
   "execution_count": 9,
   "metadata": {},
   "outputs": [
    {
     "name": "stdout",
     "output_type": "stream",
     "text": [
      "<class 'pandas.core.frame.DataFrame'>\n",
      "RangeIndex: 700 entries, 0 to 699\n",
      "Data columns (total 3 columns):\n",
      " #   Column            Non-Null Count  Dtype \n",
      "---  ------            --------------  ----- \n",
      " 0   Device Model      700 non-null    object\n",
      " 1   Operating System  700 non-null    object\n",
      " 2   Gender            700 non-null    object\n",
      "dtypes: object(3)\n",
      "memory usage: 16.5+ KB\n",
      "None\n",
      "\n",
      "Valores únicos:\n",
      "\n",
      " Device Model → 5 :\n",
      " ['Google Pixel 5' 'OnePlus 9' 'Xiaomi Mi 11' 'iPhone 12'\n",
      " 'Samsung Galaxy S21']\n",
      "\n",
      " Operating System → 2 :\n",
      " ['Android' 'iOS']\n",
      "\n",
      " Gender → 2 :\n",
      " ['Male' 'Female']\n"
     ]
    }
   ],
   "source": [
    "# Columnas tipo object\n",
    "objetos = df_1.select_dtypes(include='object')\n",
    "print(objetos.info())\n",
    "\n",
    "# Revisamos los valores únicos de los objetos\n",
    "print('\\nValores únicos:')\n",
    "for col in objetos:\n",
    "    print('\\n', col, '→', df_1[col].nunique(), ':\\n', df_1[col].unique())\n"
   ]
  },
  {
   "cell_type": "code",
   "execution_count": 10,
   "metadata": {},
   "outputs": [
    {
     "name": "stdout",
     "output_type": "stream",
     "text": [
      "<class 'pandas.core.frame.DataFrame'>\n",
      "RangeIndex: 700 entries, 0 to 699\n",
      "Data columns (total 11 columns):\n",
      " #   Column                      Non-Null Count  Dtype   \n",
      "---  ------                      --------------  -----   \n",
      " 0   User ID                     700 non-null    int64   \n",
      " 1   Device Model                700 non-null    object  \n",
      " 2   Operating System            700 non-null    category\n",
      " 3   App Usage Time (min/day)    700 non-null    int64   \n",
      " 4   Screen On Time (hours/day)  700 non-null    float64 \n",
      " 5   Battery Drain (mAh/day)     700 non-null    int64   \n",
      " 6   Number of Apps Installed    700 non-null    int64   \n",
      " 7   Data Usage (MB/day)         700 non-null    int64   \n",
      " 8   Age                         700 non-null    int64   \n",
      " 9   Gender                      700 non-null    category\n",
      " 10  User Behavior Class         700 non-null    int64   \n",
      "dtypes: category(2), float64(1), int64(7), object(1)\n",
      "memory usage: 51.0+ KB\n"
     ]
    }
   ],
   "source": [
    "#Convertimos los Object con pocos valores diferentes al tipo category\n",
    "df_1['Operating System'] = df_1['Operating System'].astype('category')\n",
    "df_1['Gender'] = df_1['Gender'].astype('category')\n",
    "\n",
    "# revisamos los tipos de las columnas\n",
    "df_1.info()\n"
   ]
  },
  {
   "cell_type": "markdown",
   "metadata": {},
   "source": [
    "**Tipos Numéricos**<br>\n",
    "Ahora comprobamos si alguna variable numérica tiene valores fuera de lo común. Para ello, utilizamos una visualización **boxplot** ya que muestran el rango intercuartílico (IQR), la mediana y los valores atípicos de un vistazo."
   ]
  },
  {
   "cell_type": "code",
   "execution_count": 11,
   "metadata": {},
   "outputs": [
    {
     "data": {
      "image/png": "[encoded data removed]",
      "text/plain": [
       "<Figure size 1400x1000 with 8 Axes>"
      ]
     },
     "metadata": {},
     "output_type": "display_data"
    }
   ],
   "source": [
    "# Seleccionamos solo las columnas numéricas\n",
    "numeric_cols = df_1.select_dtypes(include='number').columns\n",
    "\n",
    "# Creamos un boxplot por cada variable numérica\n",
    "plt.figure(figsize=(14, 10))\n",
    "\n",
    "for i, col in enumerate(numeric_cols, 1):\n",
    "    plt.subplot(3, 3, i)\n",
    "    sns.boxplot(y=df_1[col])\n",
    "    plt.title(col)\n",
    "    #plt.tight_layout()\n",
    "\n",
    "plt.show()\n"
   ]
  },
  {
   "cell_type": "markdown",
   "metadata": {},
   "source": [
    "#### Conclusiones para el Dataset 1:\n",
    "No hay valores que se salgan de lo normal. No se aprecian errores ni hay outliers y todos los valores bastante razonables. Quizás en _Battery Drain_ y _Data Usage_ podríamos ver algunos datos muy altos, pero no creo que sean fuera de la norma.\n",
    "\n",
    "Por lo tanto, considero que habría que mantener todos los registros."
   ]
  },
  {
   "cell_type": "markdown",
   "metadata": {},
   "source": [
    "<div style=\"background-color:#909090;color:black;\">\n",
    "\n",
    "### 3.2. Dataset 2: E-commerce Dataset\n",
    "</div>\n",
    "\n",
    "   – Fuente: Kaggle  \n",
    "   – Link: https://www.kaggle.com/datasets/mervemenekse/ecommerce-dataset/data\n",
    "\n",
    "#### 3.2.1. Resumen:\n",
    "Este dataset contiene un año de datos de compras online de una empresa estadounidense, con detalles de cada pedido, como fechas, tiempos de entrega, perfil del cliente (género y login), así como información del producto (categoría, cantidad, descuentos) y aspectos financieros (ventas, beneficio, coste de envío). Quizás lo más importante, ya que me va a permitir utilizarlo con mis hipótesis: también diferencia las compras por tipo de dispositivo.\n",
    "\n",
    "Hay más de 50.000 registros en el dataset, de los cuales casi 40.000 son usuarios únicos.\n",
    "Se identifican 3.658 registros realizados desde dispositivos móviles, de 3.557 usuarios diferentes.\n",
    "\n",
    "#### 3.2.2. Descripción de los Datos:\n",
    "- **Order_Date**: Fecha en que se realizó el pedido.\n",
    "- **Aging**: Tiempo desde la orden hasta la entrega del producto.\n",
    "- **Customer_id**: Identificador único de cada cliente.\n",
    "- **Gender**: Género del cliente.\n",
    "- **Device_Type**: Dispositivo usado para realizar la compra (Web/Móvil).\n",
    "- **Customer_Login_Type**: Tipo de inicio de sesión del cliente (Miembro, Invitado, etc.).\n",
    "- **Product_Category**: Categoría del producto.\n",
    "- **Product**: Producto.\n",
    "- **Sales**: Importe total de ventas.\n",
    "- **Quantity**: Cantidad de unidades del producto.\n",
    "- **Discount**: Porcentaje de descuento aplicado.\n",
    "- **Profit**: Beneficio.\n",
    "- **Shipping_cost**: Coste de envío.\n",
    "- **Order_Priority**: Prioridad del pedido (crítico, alta, etc.).\n",
    "- **Payment_method**: Método de pago."
   ]
  },
  {
   "cell_type": "code",
   "execution_count": 12,
   "metadata": {},
   "outputs": [
    {
     "data": {
      "text/html": [
       "<div>\n",
       "<style scoped>\n",
       "    .dataframe tbody tr th:only-of-type {\n",
       "        vertical-align: middle;\n",
       "    }\n",
       "\n",
       "    .dataframe tbody tr th {\n",
       "        vertical-align: top;\n",
       "    }\n",
       "\n",
       "    .dataframe thead th {\n",
       "        text-align: right;\n",
       "    }\n",
       "</style>\n",
       "<table border=\"1\" class=\"dataframe\">\n",
       "  <thead>\n",
       "    <tr style=\"text-align: right;\">\n",
       "      <th></th>\n",
       "      <th>Order_Date</th>\n",
       "      <th>Time</th>\n",
       "      <th>Aging</th>\n",
       "      <th>Customer_Id</th>\n",
       "      <th>Gender</th>\n",
       "      <th>Device_Type</th>\n",
       "      <th>Customer_Login_type</th>\n",
       "      <th>Product_Category</th>\n",
       "      <th>Product</th>\n",
       "      <th>Sales</th>\n",
       "      <th>Quantity</th>\n",
       "      <th>Discount</th>\n",
       "      <th>Profit</th>\n",
       "      <th>Shipping_Cost</th>\n",
       "      <th>Order_Priority</th>\n",
       "      <th>Payment_method</th>\n",
       "    </tr>\n",
       "  </thead>\n",
       "  <tbody>\n",
       "    <tr>\n",
       "      <th>0</th>\n",
       "      <td>2018-01-02</td>\n",
       "      <td>10:56:33</td>\n",
       "      <td>8.0</td>\n",
       "      <td>37077</td>\n",
       "      <td>Female</td>\n",
       "      <td>Web</td>\n",
       "      <td>Member</td>\n",
       "      <td>Auto &amp; Accessories</td>\n",
       "      <td>Car Media Players</td>\n",
       "      <td>140.0</td>\n",
       "      <td>1.0</td>\n",
       "      <td>0.3</td>\n",
       "      <td>46.0</td>\n",
       "      <td>4.6</td>\n",
       "      <td>Medium</td>\n",
       "      <td>credit_card</td>\n",
       "    </tr>\n",
       "    <tr>\n",
       "      <th>1</th>\n",
       "      <td>2018-07-24</td>\n",
       "      <td>20:41:37</td>\n",
       "      <td>2.0</td>\n",
       "      <td>59173</td>\n",
       "      <td>Female</td>\n",
       "      <td>Web</td>\n",
       "      <td>Member</td>\n",
       "      <td>Auto &amp; Accessories</td>\n",
       "      <td>Car Speakers</td>\n",
       "      <td>211.0</td>\n",
       "      <td>1.0</td>\n",
       "      <td>0.3</td>\n",
       "      <td>112.0</td>\n",
       "      <td>11.2</td>\n",
       "      <td>Medium</td>\n",
       "      <td>credit_card</td>\n",
       "    </tr>\n",
       "    <tr>\n",
       "      <th>2</th>\n",
       "      <td>2018-11-08</td>\n",
       "      <td>08:38:49</td>\n",
       "      <td>8.0</td>\n",
       "      <td>41066</td>\n",
       "      <td>Female</td>\n",
       "      <td>Web</td>\n",
       "      <td>Member</td>\n",
       "      <td>Auto &amp; Accessories</td>\n",
       "      <td>Car Body Covers</td>\n",
       "      <td>117.0</td>\n",
       "      <td>5.0</td>\n",
       "      <td>0.1</td>\n",
       "      <td>31.2</td>\n",
       "      <td>3.1</td>\n",
       "      <td>Critical</td>\n",
       "      <td>credit_card</td>\n",
       "    </tr>\n",
       "    <tr>\n",
       "      <th>3</th>\n",
       "      <td>2018-04-18</td>\n",
       "      <td>19:28:06</td>\n",
       "      <td>7.0</td>\n",
       "      <td>50741</td>\n",
       "      <td>Female</td>\n",
       "      <td>Web</td>\n",
       "      <td>Member</td>\n",
       "      <td>Auto &amp; Accessories</td>\n",
       "      <td>Car &amp; Bike Care</td>\n",
       "      <td>118.0</td>\n",
       "      <td>1.0</td>\n",
       "      <td>0.3</td>\n",
       "      <td>26.2</td>\n",
       "      <td>2.6</td>\n",
       "      <td>High</td>\n",
       "      <td>credit_card</td>\n",
       "    </tr>\n",
       "    <tr>\n",
       "      <th>4</th>\n",
       "      <td>2018-08-13</td>\n",
       "      <td>21:18:39</td>\n",
       "      <td>9.0</td>\n",
       "      <td>53639</td>\n",
       "      <td>Female</td>\n",
       "      <td>Web</td>\n",
       "      <td>Member</td>\n",
       "      <td>Auto &amp; Accessories</td>\n",
       "      <td>Tyre</td>\n",
       "      <td>250.0</td>\n",
       "      <td>1.0</td>\n",
       "      <td>0.3</td>\n",
       "      <td>160.0</td>\n",
       "      <td>16.0</td>\n",
       "      <td>Critical</td>\n",
       "      <td>credit_card</td>\n",
       "    </tr>\n",
       "  </tbody>\n",
       "</table>\n",
       "</div>"
      ],
      "text/plain": [
       "   Order_Date      Time  Aging  Customer_Id  Gender Device_Type  \\\n",
       "0  2018-01-02  10:56:33    8.0        37077  Female         Web   \n",
       "1  2018-07-24  20:41:37    2.0        59173  Female         Web   \n",
       "2  2018-11-08  08:38:49    8.0        41066  Female         Web   \n",
       "3  2018-04-18  19:28:06    7.0        50741  Female         Web   \n",
       "4  2018-08-13  21:18:39    9.0        53639  Female         Web   \n",
       "\n",
       "  Customer_Login_type    Product_Category            Product  Sales  Quantity  \\\n",
       "0              Member  Auto & Accessories  Car Media Players  140.0       1.0   \n",
       "1              Member  Auto & Accessories       Car Speakers  211.0       1.0   \n",
       "2              Member  Auto & Accessories    Car Body Covers  117.0       5.0   \n",
       "3              Member  Auto & Accessories    Car & Bike Care  118.0       1.0   \n",
       "4              Member  Auto & Accessories               Tyre  250.0       1.0   \n",
       "\n",
       "   Discount  Profit  Shipping_Cost Order_Priority Payment_method  \n",
       "0       0.3    46.0            4.6         Medium    credit_card  \n",
       "1       0.3   112.0           11.2         Medium    credit_card  \n",
       "2       0.1    31.2            3.1       Critical    credit_card  \n",
       "3       0.3    26.2            2.6           High    credit_card  \n",
       "4       0.3   160.0           16.0       Critical    credit_card  "
      ]
     },
     "execution_count": 12,
     "metadata": {},
     "output_type": "execute_result"
    }
   ],
   "source": [
    "df_2 = pd.read_csv('data/E-commerce Dataset.csv')\n",
    "df_2.head()"
   ]
  },
  {
   "cell_type": "code",
   "execution_count": 13,
   "metadata": {},
   "outputs": [
    {
     "name": "stdout",
     "output_type": "stream",
     "text": [
      "Total registros: 51290\n",
      "Usuarios únicos: 38997\n",
      "\n",
      "Registros mobile: 3658\n",
      "Usuarios únicos + móvil: 3557\n"
     ]
    }
   ],
   "source": [
    "print('Total registros:', len(df_2))\n",
    "print('Usuarios únicos:', df_2['Customer_Id'].nunique())\n",
    "\n",
    "print('\\nRegistros mobile:', len(df_2[df_2['Device_Type'] == 'Mobile']))\n",
    "print('Usuarios únicos + móvil:', df_2[df_2['Device_Type'] == 'Mobile']['Customer_Id'].nunique())"
   ]
  },
  {
   "cell_type": "code",
   "execution_count": 14,
   "metadata": {},
   "outputs": [
    {
     "name": "stdout",
     "output_type": "stream",
     "text": [
      "<class 'pandas.core.frame.DataFrame'>\n",
      "RangeIndex: 51290 entries, 0 to 51289\n",
      "Data columns (total 16 columns):\n",
      " #   Column               Non-Null Count  Dtype  \n",
      "---  ------               --------------  -----  \n",
      " 0   Order_Date           51290 non-null  object \n",
      " 1   Time                 51290 non-null  object \n",
      " 2   Aging                51289 non-null  float64\n",
      " 3   Customer_Id          51290 non-null  int64  \n",
      " 4   Gender               51290 non-null  object \n",
      " 5   Device_Type          51290 non-null  object \n",
      " 6   Customer_Login_type  51290 non-null  object \n",
      " 7   Product_Category     51290 non-null  object \n",
      " 8   Product              51290 non-null  object \n",
      " 9   Sales                51289 non-null  float64\n",
      " 10  Quantity             51288 non-null  float64\n",
      " 11  Discount             51289 non-null  float64\n",
      " 12  Profit               51290 non-null  float64\n",
      " 13  Shipping_Cost        51289 non-null  float64\n",
      " 14  Order_Priority       51288 non-null  object \n",
      " 15  Payment_method       51290 non-null  object \n",
      "dtypes: float64(6), int64(1), object(9)\n",
      "memory usage: 6.3+ MB\n"
     ]
    }
   ],
   "source": [
    "df_2.info()"
   ]
  },
  {
   "cell_type": "code",
   "execution_count": 15,
   "metadata": {},
   "outputs": [
    {
     "data": {
      "text/html": [
       "<div>\n",
       "<style scoped>\n",
       "    .dataframe tbody tr th:only-of-type {\n",
       "        vertical-align: middle;\n",
       "    }\n",
       "\n",
       "    .dataframe tbody tr th {\n",
       "        vertical-align: top;\n",
       "    }\n",
       "\n",
       "    .dataframe thead th {\n",
       "        text-align: right;\n",
       "    }\n",
       "</style>\n",
       "<table border=\"1\" class=\"dataframe\">\n",
       "  <thead>\n",
       "    <tr style=\"text-align: right;\">\n",
       "      <th></th>\n",
       "      <th>Aging</th>\n",
       "      <th>Customer_Id</th>\n",
       "      <th>Sales</th>\n",
       "      <th>Quantity</th>\n",
       "      <th>Discount</th>\n",
       "      <th>Profit</th>\n",
       "      <th>Shipping_Cost</th>\n",
       "    </tr>\n",
       "  </thead>\n",
       "  <tbody>\n",
       "    <tr>\n",
       "      <th>count</th>\n",
       "      <td>51289.000000</td>\n",
       "      <td>51290.000000</td>\n",
       "      <td>51289.000000</td>\n",
       "      <td>51288.000000</td>\n",
       "      <td>51289.000000</td>\n",
       "      <td>51290.000000</td>\n",
       "      <td>51289.000000</td>\n",
       "    </tr>\n",
       "    <tr>\n",
       "      <th>mean</th>\n",
       "      <td>5.255035</td>\n",
       "      <td>58155.758764</td>\n",
       "      <td>152.340872</td>\n",
       "      <td>2.502983</td>\n",
       "      <td>0.303821</td>\n",
       "      <td>70.407226</td>\n",
       "      <td>7.041557</td>\n",
       "    </tr>\n",
       "    <tr>\n",
       "      <th>std</th>\n",
       "      <td>2.959948</td>\n",
       "      <td>26032.215826</td>\n",
       "      <td>66.495419</td>\n",
       "      <td>1.511859</td>\n",
       "      <td>0.131027</td>\n",
       "      <td>48.729488</td>\n",
       "      <td>4.871745</td>\n",
       "    </tr>\n",
       "    <tr>\n",
       "      <th>min</th>\n",
       "      <td>1.000000</td>\n",
       "      <td>10000.000000</td>\n",
       "      <td>33.000000</td>\n",
       "      <td>1.000000</td>\n",
       "      <td>0.100000</td>\n",
       "      <td>0.500000</td>\n",
       "      <td>0.100000</td>\n",
       "    </tr>\n",
       "    <tr>\n",
       "      <th>25%</th>\n",
       "      <td>3.000000</td>\n",
       "      <td>35831.250000</td>\n",
       "      <td>85.000000</td>\n",
       "      <td>1.000000</td>\n",
       "      <td>0.200000</td>\n",
       "      <td>24.900000</td>\n",
       "      <td>2.500000</td>\n",
       "    </tr>\n",
       "    <tr>\n",
       "      <th>50%</th>\n",
       "      <td>5.000000</td>\n",
       "      <td>61018.000000</td>\n",
       "      <td>133.000000</td>\n",
       "      <td>2.000000</td>\n",
       "      <td>0.300000</td>\n",
       "      <td>59.900000</td>\n",
       "      <td>6.000000</td>\n",
       "    </tr>\n",
       "    <tr>\n",
       "      <th>75%</th>\n",
       "      <td>8.000000</td>\n",
       "      <td>80736.250000</td>\n",
       "      <td>218.000000</td>\n",
       "      <td>4.000000</td>\n",
       "      <td>0.400000</td>\n",
       "      <td>118.400000</td>\n",
       "      <td>11.800000</td>\n",
       "    </tr>\n",
       "    <tr>\n",
       "      <th>max</th>\n",
       "      <td>10.500000</td>\n",
       "      <td>99999.000000</td>\n",
       "      <td>250.000000</td>\n",
       "      <td>5.000000</td>\n",
       "      <td>0.500000</td>\n",
       "      <td>167.500000</td>\n",
       "      <td>16.800000</td>\n",
       "    </tr>\n",
       "  </tbody>\n",
       "</table>\n",
       "</div>"
      ],
      "text/plain": [
       "              Aging   Customer_Id         Sales      Quantity      Discount  \\\n",
       "count  51289.000000  51290.000000  51289.000000  51288.000000  51289.000000   \n",
       "mean       5.255035  58155.758764    152.340872      2.502983      0.303821   \n",
       "std        2.959948  26032.215826     66.495419      1.511859      0.131027   \n",
       "min        1.000000  10000.000000     33.000000      1.000000      0.100000   \n",
       "25%        3.000000  35831.250000     85.000000      1.000000      0.200000   \n",
       "50%        5.000000  61018.000000    133.000000      2.000000      0.300000   \n",
       "75%        8.000000  80736.250000    218.000000      4.000000      0.400000   \n",
       "max       10.500000  99999.000000    250.000000      5.000000      0.500000   \n",
       "\n",
       "             Profit  Shipping_Cost  \n",
       "count  51290.000000   51289.000000  \n",
       "mean      70.407226       7.041557  \n",
       "std       48.729488       4.871745  \n",
       "min        0.500000       0.100000  \n",
       "25%       24.900000       2.500000  \n",
       "50%       59.900000       6.000000  \n",
       "75%      118.400000      11.800000  \n",
       "max      167.500000      16.800000  "
      ]
     },
     "execution_count": 15,
     "metadata": {},
     "output_type": "execute_result"
    }
   ],
   "source": [
    "df_2.describe()"
   ]
  },
  {
   "cell_type": "markdown",
   "metadata": {},
   "source": [
    "#### 3.2.3 Comprobación de datos nulos o duplicados"
   ]
  },
  {
   "cell_type": "code",
   "execution_count": 16,
   "metadata": {},
   "outputs": [
    {
     "name": "stdout",
     "output_type": "stream",
     "text": [
      "Valores nulos en el Dataset 2:\n",
      " Aging             1\n",
      "Sales             1\n",
      "Quantity          2\n",
      "Discount          1\n",
      "Shipping_Cost     1\n",
      "Order_Priority    2\n",
      "dtype: int64\n"
     ]
    }
   ],
   "source": [
    "#comprobamos si hay datos nulos\n",
    "nulos = df_2.isnull().sum()[df_2.isnull().sum() > 0]\n",
    "\n",
    "# e imprimimos dónde se encuentran\n",
    "print('Valores nulos en el Dataset 2:\\n', nulos)"
   ]
  },
  {
   "cell_type": "code",
   "execution_count": 17,
   "metadata": {},
   "outputs": [
    {
     "name": "stdout",
     "output_type": "stream",
     "text": [
      "Valores duplicados en el Dataset 2: 0\n"
     ]
    }
   ],
   "source": [
    "#comprobando si hay datos duplicados\n",
    "print('Valores duplicados en el Dataset 2:',\n",
    "      df_2.duplicated().sum()\n",
    "      )"
   ]
  },
  {
   "cell_type": "markdown",
   "metadata": {},
   "source": [
    "- Hay muy pocos valores nulos en el Dataset 2.\n",
    "- No hay valores duplicados en el Dataset 2."
   ]
  },
  {
   "cell_type": "markdown",
   "metadata": {},
   "source": [
    "#### 3.2.4 Corrección de datos incorrectos y estandarización\n",
    "\n",
    "**Tipos: Object → Category**<br>\n",
    "Al igual que con el primer Dataset, para este Dataset 2 comprobamos los tipos de las diferentes variables, para convertir las de tipo 'object' con pocos valores diferentes en variables de tipo 'category'. Ésto nos facilitará el procesamiento y visualizaciones posteriores."
   ]
  },
  {
   "cell_type": "code",
   "execution_count": 18,
   "metadata": {},
   "outputs": [
    {
     "data": {
      "text/plain": [
       "Order_Date              object\n",
       "Time                    object\n",
       "Aging                  float64\n",
       "Customer_Id              int64\n",
       "Gender                  object\n",
       "Device_Type             object\n",
       "Customer_Login_type     object\n",
       "Product_Category        object\n",
       "Product                 object\n",
       "Sales                  float64\n",
       "Quantity               float64\n",
       "Discount               float64\n",
       "Profit                 float64\n",
       "Shipping_Cost          float64\n",
       "Order_Priority          object\n",
       "Payment_method          object\n",
       "dtype: object"
      ]
     },
     "execution_count": 18,
     "metadata": {},
     "output_type": "execute_result"
    }
   ],
   "source": [
    "# comprobamos los tipos de las diferentes variables\n",
    "df_2.dtypes"
   ]
  },
  {
   "cell_type": "code",
   "execution_count": 19,
   "metadata": {},
   "outputs": [
    {
     "name": "stdout",
     "output_type": "stream",
     "text": [
      "<class 'pandas.core.frame.DataFrame'>\n",
      "RangeIndex: 51290 entries, 0 to 51289\n",
      "Data columns (total 9 columns):\n",
      " #   Column               Non-Null Count  Dtype \n",
      "---  ------               --------------  ----- \n",
      " 0   Order_Date           51290 non-null  object\n",
      " 1   Time                 51290 non-null  object\n",
      " 2   Gender               51290 non-null  object\n",
      " 3   Device_Type          51290 non-null  object\n",
      " 4   Customer_Login_type  51290 non-null  object\n",
      " 5   Product_Category     51290 non-null  object\n",
      " 6   Product              51290 non-null  object\n",
      " 7   Order_Priority       51288 non-null  object\n",
      " 8   Payment_method       51290 non-null  object\n",
      "dtypes: object(9)\n",
      "memory usage: 3.5+ MB\n",
      "None\n",
      "\n",
      "Valores únicos:\n",
      "\n",
      " Order_Date → 356 :\n",
      " ['2018-01-02' '2018-07-24' '2018-11-08' '2018-04-18' '2018-08-13'\n",
      " '2018-07-09' '2018-05-16' '2018-06-23' '2018-07-29' '2018-07-13'\n",
      " '2018-10-07' '2018-07-25' '2018-12-01' '2018-06-02' '2018-03-26'\n",
      " '2018-04-21' '2018-01-26' '2018-02-18' '2018-12-15' '2018-08-03'\n",
      " '2018-06-08' '2018-11-09' '2018-08-20' '2018-10-04' '2018-12-12'\n",
      " '2018-05-02' '2018-08-25' '2018-11-10' '2018-09-16' '2018-03-12'\n",
      " '2018-08-17' '2018-08-21' '2018-07-30' '2018-10-01' '2018-12-26'\n",
      " '2018-05-19' '2018-04-24' '2018-11-04' '2018-05-18' '2018-05-14'\n",
      " '2018-05-17' '2018-08-01' '2018-10-26' '2018-07-26' '2018-03-15'\n",
      " '2018-11-30' '2018-10-11' '2018-12-09' '2018-12-13' '2018-10-13'\n",
      " '2018-04-30' '2018-11-05' '2018-04-15' '2018-08-19' '2018-09-22'\n",
      " '2018-06-07' '2018-08-10' '2018-10-18' '2018-07-15' '2018-02-13'\n",
      " '2018-09-13' '2018-08-15' '2018-09-20' '2018-02-15' '2018-07-28'\n",
      " '2018-11-26' '2018-03-22' '2018-09-06' '2018-05-09' '2018-01-16'\n",
      " '2018-03-08' '2018-08-27' '2018-05-11' '2018-06-22' '2018-05-01'\n",
      " '2018-02-19' '2018-09-11' '2018-03-20' '2018-11-03' '2018-04-22'\n",
      " '2018-12-30' '2018-10-05' '2018-08-06' '2018-06-28' '2018-06-27'\n",
      " '2018-07-01' '2018-02-27' '2018-04-28' '2018-11-22' '2018-07-06'\n",
      " '2018-04-26' '2018-10-27' '2018-11-20' '2018-06-30' '2018-12-07'\n",
      " '2018-05-08' '2018-09-25' '2018-07-16' '2018-01-19' '2018-07-22'\n",
      " '2018-03-02' '2018-06-09' '2018-07-18' '2018-12-28' '2018-10-08'\n",
      " '2018-07-10' '2018-07-05' '2018-02-20' '2018-06-10' '2018-09-26'\n",
      " '2018-04-27' '2018-05-25' '2018-04-17' '2018-07-23' '2018-08-14'\n",
      " '2018-09-30' '2018-05-15' '2018-10-24' '2018-07-02' '2018-12-06'\n",
      " '2018-01-04' '2018-03-21' '2018-08-02' '2018-05-30' '2018-12-29'\n",
      " '2018-10-25' '2018-02-11' '2018-09-15' '2018-06-13' '2018-09-04'\n",
      " '2018-02-26' '2018-08-28' '2018-06-18' '2018-12-14' '2018-03-04'\n",
      " '2018-10-16' '2018-07-27' '2018-07-08' '2018-11-01' '2018-07-21'\n",
      " '2018-03-09' '2018-09-09' '2018-09-27' '2018-03-06' '2018-02-12'\n",
      " '2018-10-03' '2018-05-23' '2018-09-18' '2018-08-05' '2018-04-16'\n",
      " '2018-06-11' '2018-07-17' '2018-09-17' '2018-03-11' '2018-05-04'\n",
      " '2018-03-17' '2018-12-18' '2018-06-05' '2018-03-24' '2018-04-29'\n",
      " '2018-09-03' '2018-06-25' '2018-06-16' '2018-08-22' '2018-08-12'\n",
      " '2018-10-06' '2018-08-08' '2018-10-30' '2018-01-05' '2018-09-10'\n",
      " '2018-07-12' '2018-08-11' '2018-12-17' '2018-05-07' '2018-06-24'\n",
      " '2018-10-09' '2018-04-11' '2018-10-28' '2018-04-13' '2018-06-12'\n",
      " '2018-10-29' '2018-06-19' '2018-12-27' '2018-06-21' '2018-03-07'\n",
      " '2018-10-12' '2018-07-03' '2018-06-14' '2018-11-23' '2018-02-10'\n",
      " '2018-11-21' '2018-05-27' '2018-05-20' '2018-03-05' '2018-08-09'\n",
      " '2018-11-02' '2018-03-01' '2018-05-26' '2018-09-01' '2018-09-19'\n",
      " '2018-11-17' '2018-11-16' '2018-11-24' '2018-11-11' '2018-07-11'\n",
      " '2018-01-11' '2018-04-25' '2018-11-14' '2018-03-19' '2018-01-25'\n",
      " '2018-01-24' '2018-04-09' '2018-08-23' '2018-10-17' '2018-05-29'\n",
      " '2018-05-24' '2018-06-29' '2018-12-22' '2018-04-06' '2018-03-16'\n",
      " '2018-10-23' '2018-11-06' '2018-10-02' '2018-09-14' '2018-02-05'\n",
      " '2018-04-19' '2018-05-10' '2018-12-19' '2018-12-04' '2018-11-12'\n",
      " '2018-01-18' '2018-11-28' '2018-03-27' '2018-01-17' '2018-02-08'\n",
      " '2018-12-08' '2018-01-06' '2018-01-30' '2018-10-19' '2018-12-16'\n",
      " '2018-01-12' '2018-09-29' '2018-01-09' '2018-06-26' '2018-02-14'\n",
      " '2018-10-15' '2018-05-21' '2018-06-17' '2018-07-20' '2018-03-14'\n",
      " '2018-09-02' '2018-07-04' '2018-05-03' '2018-04-20' '2018-03-23'\n",
      " '2018-03-03' '2018-04-02' '2018-04-03' '2018-05-06' '2018-06-01'\n",
      " '2018-02-03' '2018-08-07' '2018-12-23' '2018-11-27' '2018-08-24'\n",
      " '2018-06-04' '2018-05-12' '2018-06-03' '2018-10-14' '2018-06-15'\n",
      " '2018-09-24' '2018-03-10' '2018-11-19' '2018-02-21' '2018-05-13'\n",
      " '2018-08-16' '2018-12-10' '2018-01-28' '2018-06-06' '2018-12-03'\n",
      " '2018-01-22' '2018-11-07' '2018-02-16' '2018-12-24' '2018-04-23'\n",
      " '2018-05-05' '2018-10-20' '2018-09-28' '2018-09-12' '2018-02-17'\n",
      " '2018-10-22' '2018-10-21' '2018-09-08' '2018-08-26' '2018-12-21'\n",
      " '2018-03-28' '2018-10-10' '2018-04-08' '2018-12-25' '2018-01-27'\n",
      " '2018-03-25' '2018-12-05' '2018-05-28' '2018-07-19' '2018-09-05'\n",
      " '2018-07-14' '2018-02-06' '2018-01-01' '2018-11-25' '2018-11-15'\n",
      " '2018-08-04' '2018-09-23' '2018-04-14' '2018-08-18' '2018-01-29'\n",
      " '2018-04-07' '2018-01-13' '2018-12-02' '2018-12-11' '2018-02-25'\n",
      " '2018-02-04' '2018-05-22' '2018-01-08' '2018-01-15' '2018-12-20'\n",
      " '2018-01-07' '2018-02-09' '2018-04-10' '2018-11-13' '2018-01-23'\n",
      " '2018-01-20' '2018-02-01' '2018-02-22' '2018-06-20' '2018-09-21'\n",
      " '2018-02-28' '2018-02-23' '2018-03-18' '2018-01-14' '2018-04-12'\n",
      " '2018-04-01' '2018-09-07' '2018-11-18' '2018-11-29' '2018-03-29'\n",
      " '2018-02-24' '2018-01-21' '2018-01-03' '2018-03-13' '2018-02-07'\n",
      " '2018-02-02' '2018-07-07' '2018-04-05' '2018-03-30' '2018-01-10'\n",
      " '2018-04-04']\n",
      "\n",
      " Time → 35275 :\n",
      " ['10:56:33' '20:41:37' '08:38:49' ... '21:12:03' '10:25:07' '10:50:08']\n",
      "\n",
      " Gender → 2 :\n",
      " ['Female' 'Male']\n",
      "\n",
      " Device_Type → 2 :\n",
      " ['Web' 'Mobile']\n",
      "\n",
      " Customer_Login_type → 4 :\n",
      " ['Member' 'Guest' 'New ' 'First SignUp']\n",
      "\n",
      " Product_Category → 4 :\n",
      " ['Auto & Accessories' 'Fashion' 'Electronic' 'Home & Furniture']\n",
      "\n",
      " Product → 42 :\n",
      " ['Car Media Players' 'Car Speakers' 'Car Body Covers' 'Car & Bike Care'\n",
      " 'Tyre' 'Bike Tyres' 'Car Mat' 'Car Seat Covers' 'Car Pillow & Neck Rest'\n",
      " 'Shirts' 'Jeans' 'Suits' 'Sports Wear' 'Casula Shoes' 'Running Shoes'\n",
      " 'Formal Shoes' 'Sneakers' 'Titak watch' 'Fossil Watch' 'T - Shirts'\n",
      " 'Samsung Mobile' 'Watch' 'Fans' 'Iron' 'Tablet' 'Mouse' 'Keyboard'\n",
      " 'Apple Laptop' 'Mixer/Juicer' 'LED' 'LCD' 'Speakers' 'Sofa Covers'\n",
      " 'Bed Sheets' 'Curtains' 'Towels' 'Sofas' 'Beds' 'Dinning Tables'\n",
      " 'Shoe Rack' 'Umbrellas' 'Dinner Crockery']\n",
      "\n",
      " Order_Priority → 4 :\n",
      " ['Medium' 'Critical' 'High' nan 'Low']\n",
      "\n",
      " Payment_method → 5 :\n",
      " ['credit_card' 'money_order' 'e_wallet' 'debit_card' 'not_defined']\n"
     ]
    }
   ],
   "source": [
    "# Columnas tipo object\n",
    "objetos_2 = df_2.select_dtypes(include='object')\n",
    "print(objetos_2.info())\n",
    "\n",
    "# Revisamos los valores únicos de los objetos\n",
    "print('\\nValores únicos:')\n",
    "for col in objetos_2:\n",
    "    print('\\n', col, '→', df_2[col].nunique(), ':\\n', df_2[col].unique())"
   ]
  },
  {
   "cell_type": "markdown",
   "metadata": {},
   "source": [
    "Convertiré a tipo 'category' las siguientes columnas:\n",
    "- **Gender**: 2 valores diferentes\n",
    "- **Device_Type**: 2 valores diferentes\n",
    "- **Customer_Login_type**: 4 valores diferentes\n",
    "- **Product_Category**: 4 valores diferentes\n",
    "- **Order_Priority**: 4 valores diferentes\n",
    "- **Payment_method**: 5 valores diferentes"
   ]
  },
  {
   "cell_type": "code",
   "execution_count": 20,
   "metadata": {},
   "outputs": [
    {
     "name": "stdout",
     "output_type": "stream",
     "text": [
      "<class 'pandas.core.frame.DataFrame'>\n",
      "RangeIndex: 51290 entries, 0 to 51289\n",
      "Data columns (total 16 columns):\n",
      " #   Column               Non-Null Count  Dtype   \n",
      "---  ------               --------------  -----   \n",
      " 0   Order_Date           51290 non-null  object  \n",
      " 1   Time                 51290 non-null  object  \n",
      " 2   Aging                51289 non-null  float64 \n",
      " 3   Customer_Id          51290 non-null  int64   \n",
      " 4   Gender               51290 non-null  category\n",
      " 5   Device_Type          51290 non-null  category\n",
      " 6   Customer_Login_type  51290 non-null  category\n",
      " 7   Product_Category     51290 non-null  category\n",
      " 8   Product              51290 non-null  object  \n",
      " 9   Sales                51289 non-null  float64 \n",
      " 10  Quantity             51288 non-null  float64 \n",
      " 11  Discount             51289 non-null  float64 \n",
      " 12  Profit               51290 non-null  float64 \n",
      " 13  Shipping_Cost        51289 non-null  float64 \n",
      " 14  Order_Priority       51288 non-null  category\n",
      " 15  Payment_method       51290 non-null  category\n",
      "dtypes: category(6), float64(6), int64(1), object(3)\n",
      "memory usage: 4.2+ MB\n"
     ]
    }
   ],
   "source": [
    "#Convertimos los Object con pocos valores diferentes al tipo category\n",
    "df_2['Gender'] = df_2['Gender'].astype('category')\n",
    "df_2['Device_Type'] = df_2['Device_Type'].astype('category')\n",
    "df_2['Customer_Login_type'] = df_2['Customer_Login_type'].astype('category')\n",
    "df_2['Product_Category'] = df_2['Product_Category'].astype('category')\n",
    "df_2['Order_Priority'] = df_2['Order_Priority'].astype('category')\n",
    "df_2['Payment_method'] = df_2['Payment_method'].astype('category')\n",
    "\n",
    "# revisamos los tipos de las columnas\n",
    "df_2.info()"
   ]
  },
  {
   "cell_type": "markdown",
   "metadata": {},
   "source": [
    "**Tipos Numéricos**<br>\n",
    "Ahora comprobamos si alguna variable numérica tiene valores fuera de lo común. Para ello, utilizamos una visualización **boxplot** ya que muestran el rango intercuartílico (IQR), la mediana y los valores atípicos de un vistazo."
   ]
  },
  {
   "cell_type": "code",
   "execution_count": 21,
   "metadata": {},
   "outputs": [
    {
     "data": {
      "image/png": "[encoded data removed]",
      "text/plain": [
       "<Figure size 1400x1000 with 7 Axes>"
      ]
     },
     "metadata": {},
     "output_type": "display_data"
    }
   ],
   "source": [
    "# Seleccionamos solo las columnas numéricas\n",
    "numeric_cols_2 = df_2.select_dtypes(include='number').columns\n",
    "\n",
    "# Creamos un boxplot por cada variable numérica\n",
    "plt.figure(figsize=(14, 10))\n",
    "\n",
    "for i, col in enumerate(numeric_cols_2, 1):\n",
    "    plt.subplot(3, 3, i)\n",
    "    sns.boxplot(y=df_2[col])\n",
    "    plt.title(col)\n",
    "    #plt.tight_layout()\n",
    "\n",
    "plt.show()\n"
   ]
  },
  {
   "cell_type": "markdown",
   "metadata": {},
   "source": [
    "**Tipos Fecha**<br>\n",
    "Para poder analizar las fechas y horas del dataset es importante poder agruparlas por periodo (por día, mes, hora). Para ello convertiré estas columnas al tipo **datetime**. Ésto me permitirá hacer análisis de perioricidad y por horario.\n",
    "\n",
    "Tal como veíamos con ``df_2.info()`` hay 2 columnas con este tipo de dato:\n",
    "\n",
    "``0   Order_Date           51290 non-null  object`` >> Ejemplo de un dato: 2018-01-02\n",
    "\n",
    "``1   Time                 51290 non-null  object`` >> Ejemplo de un dato: 10:56:33"
   ]
  },
  {
   "cell_type": "code",
   "execution_count": 22,
   "metadata": {},
   "outputs": [],
   "source": [
    "# convierto Order_Date en tipo datetime\n",
    "df_2['Order_Date'] = pd.to_datetime(df_2['Order_Date'], errors='coerce')\n",
    "\n",
    "# convierto Time en tipo datetime (HH:MM:SS)\n",
    "df_2['Time'] = pd.to_datetime(df_2['Time'], format='%H:%M:%S', errors='coerce').dt.time\n"
   ]
  },
  {
   "cell_type": "code",
   "execution_count": 23,
   "metadata": {},
   "outputs": [
    {
     "name": "stdout",
     "output_type": "stream",
     "text": [
      "<class 'pandas._libs.tslibs.timestamps.Timestamp'>\n",
      "<class 'datetime.time'>\n"
     ]
    }
   ],
   "source": [
    "# comprobamos los cambios\n",
    "print(type(df_2['Order_Date'][0]))\n",
    "print(type(df_2['Time'][0]))"
   ]
  },
  {
   "cell_type": "markdown",
   "metadata": {},
   "source": [
    "#### 3.2.5 Eliminación de los registros con valores nulos"
   ]
  },
  {
   "cell_type": "markdown",
   "metadata": {},
   "source": [
    "Considerando que existen muy pocos registros con valores nulos, voy a eliminarlos para dejar el Dataset sólo con registros con valores válidos.\n",
    "- Aging:            1 Nan\n",
    "- Sales:            1 Nan\n",
    "- Quantity:         2 Nan\n",
    "- Discount:         1 Nan\n",
    "- Shipping_Cost:    1 Nan\n",
    "- Order_Priority:   2 Nan"
   ]
  },
  {
   "cell_type": "code",
   "execution_count": 24,
   "metadata": {},
   "outputs": [
    {
     "name": "stdout",
     "output_type": "stream",
     "text": [
      "<class 'pandas.core.frame.DataFrame'>\n",
      "Index: 51282 entries, 0 to 51289\n",
      "Data columns (total 16 columns):\n",
      " #   Column               Non-Null Count  Dtype         \n",
      "---  ------               --------------  -----         \n",
      " 0   Order_Date           51282 non-null  datetime64[ns]\n",
      " 1   Time                 51282 non-null  object        \n",
      " 2   Aging                51282 non-null  float64       \n",
      " 3   Customer_Id          51282 non-null  int64         \n",
      " 4   Gender               51282 non-null  category      \n",
      " 5   Device_Type          51282 non-null  category      \n",
      " 6   Customer_Login_type  51282 non-null  category      \n",
      " 7   Product_Category     51282 non-null  category      \n",
      " 8   Product              51282 non-null  object        \n",
      " 9   Sales                51282 non-null  float64       \n",
      " 10  Quantity             51282 non-null  float64       \n",
      " 11  Discount             51282 non-null  float64       \n",
      " 12  Profit               51282 non-null  float64       \n",
      " 13  Shipping_Cost        51282 non-null  float64       \n",
      " 14  Order_Priority       51282 non-null  category      \n",
      " 15  Payment_method       51282 non-null  category      \n",
      "dtypes: category(6), datetime64[ns](1), float64(6), int64(1), object(2)\n",
      "memory usage: 4.6+ MB\n"
     ]
    }
   ],
   "source": [
    "# elimino los registros que contengan algún dato nulo\n",
    "df_2 = df_2.dropna()\n",
    "\n",
    "# muestro la información del Dataframe 2 limpio\n",
    "df_2.info()"
   ]
  },
  {
   "cell_type": "markdown",
   "metadata": {},
   "source": [
    "#### Conclusiones para el Dataset 2:\n",
    "No hay outliers que pudieran desvirtuar los datos, y tampoco parece que haya ningún dato erróneo.\n",
    "Había algunos registros con valores nulos, que he eliminado, ya que son tan pocos que no alteran el análisis del Dataset."
   ]
  },
  {
   "cell_type": "markdown",
   "metadata": {},
   "source": [
    "<div style=\"background-color:#909090;color:black;\">\n",
    "\n",
    "### 3.3. Estandarización de columnas y valores de las categorías\n",
    "</div>"
   ]
  },
  {
   "cell_type": "code",
   "execution_count": 25,
   "metadata": {},
   "outputs": [],
   "source": [
    "# creo una función para eliminar espacios en blanco y otros caracteres especiales, y poner los nombres en minúsculas\n",
    "def estandarizar_columnas(df):\n",
    "    df.columns = (\n",
    "        df.columns\n",
    "        .str.strip()\n",
    "        .str.lower()\n",
    "        .str.replace(' ', '_')\n",
    "        .str.replace('(', '', regex=False)\n",
    "        .str.replace(')', '', regex=False)\n",
    "        .str.replace('/', '_', regex=False)\n",
    "    )\n",
    "    return df\n",
    "\n",
    "# Aplicamos a los dataframes\n",
    "df_1 = estandarizar_columnas(df_1)\n",
    "df_2 = estandarizar_columnas(df_2)"
   ]
  },
  {
   "cell_type": "code",
   "execution_count": 26,
   "metadata": {},
   "outputs": [
    {
     "name": "stdout",
     "output_type": "stream",
     "text": [
      "<class 'pandas.core.frame.DataFrame'>\n",
      "RangeIndex: 700 entries, 0 to 699\n",
      "Data columns (total 11 columns):\n",
      " #   Column                    Non-Null Count  Dtype   \n",
      "---  ------                    --------------  -----   \n",
      " 0   user_id                   700 non-null    int64   \n",
      " 1   device_model              700 non-null    object  \n",
      " 2   operating_system          700 non-null    category\n",
      " 3   app_usage_time_min_day    700 non-null    int64   \n",
      " 4   screen_on_time_hours_day  700 non-null    float64 \n",
      " 5   battery_drain_mah_day     700 non-null    int64   \n",
      " 6   number_of_apps_installed  700 non-null    int64   \n",
      " 7   data_usage_mb_day         700 non-null    int64   \n",
      " 8   age                       700 non-null    int64   \n",
      " 9   gender                    700 non-null    category\n",
      " 10  user_behavior_class       700 non-null    int64   \n",
      "dtypes: category(2), float64(1), int64(7), object(1)\n",
      "memory usage: 51.0+ KB\n"
     ]
    }
   ],
   "source": [
    "df_1.info()"
   ]
  },
  {
   "cell_type": "code",
   "execution_count": 27,
   "metadata": {},
   "outputs": [],
   "source": [
    "# creo una función para estandarizar los valores de las variables categóricas\n",
    "\n",
    "# Columnas categóricas en df_1\n",
    "cat_cols_df1 = ['device_model', 'operating_system', 'gender']\n",
    "\n",
    "# Columnas categóricas en df_2\n",
    "cat_cols_df2 = ['gender', 'device_type', 'customer_login_type', 'product_category', 'order_priority', 'payment_method']\n",
    "\n",
    "# Función para limpiar valores de texto/categoría\n",
    "def limpiar_categorias(df, columnas):\n",
    "    for col in columnas:\n",
    "        if df[col].dtype.name in ['object', 'category']:\n",
    "            df[col] = df[col].str.strip().str.lower() # al aplicarle métodos de string se convierte en tipo object\n",
    "            df[col] = df[col].astype('category') # volvemos a convertir a category (no es lo óptimo) :-/\n",
    "    return df\n",
    "\n",
    "# Aplicamos a los dos dataframes\n",
    "df_1 = limpiar_categorias(df_1, cat_cols_df1)\n",
    "df_2 = limpiar_categorias(df_2, cat_cols_df2)\n"
   ]
  },
  {
   "cell_type": "code",
   "execution_count": 29,
   "metadata": {},
   "outputs": [
    {
     "name": "stdout",
     "output_type": "stream",
     "text": [
      "<class 'pandas.core.frame.DataFrame'>\n",
      "RangeIndex: 700 entries, 0 to 699\n",
      "Data columns (total 11 columns):\n",
      " #   Column                    Non-Null Count  Dtype   \n",
      "---  ------                    --------------  -----   \n",
      " 0   user_id                   700 non-null    int64   \n",
      " 1   device_model              700 non-null    category\n",
      " 2   operating_system          700 non-null    category\n",
      " 3   app_usage_time_min_day    700 non-null    int64   \n",
      " 4   screen_on_time_hours_day  700 non-null    float64 \n",
      " 5   battery_drain_mah_day     700 non-null    int64   \n",
      " 6   number_of_apps_installed  700 non-null    int64   \n",
      " 7   data_usage_mb_day         700 non-null    int64   \n",
      " 8   age                       700 non-null    int64   \n",
      " 9   gender                    700 non-null    category\n",
      " 10  user_behavior_class       700 non-null    int64   \n",
      "dtypes: category(3), float64(1), int64(7)\n",
      "memory usage: 46.4 KB\n"
     ]
    }
   ],
   "source": [
    "df_1.info()"
   ]
  },
  {
   "cell_type": "code",
   "execution_count": 28,
   "metadata": {},
   "outputs": [
    {
     "data": {
      "text/html": [
       "<div>\n",
       "<style scoped>\n",
       "    .dataframe tbody tr th:only-of-type {\n",
       "        vertical-align: middle;\n",
       "    }\n",
       "\n",
       "    .dataframe tbody tr th {\n",
       "        vertical-align: top;\n",
       "    }\n",
       "\n",
       "    .dataframe thead th {\n",
       "        text-align: right;\n",
       "    }\n",
       "</style>\n",
       "<table border=\"1\" class=\"dataframe\">\n",
       "  <thead>\n",
       "    <tr style=\"text-align: right;\">\n",
       "      <th></th>\n",
       "      <th>user_id</th>\n",
       "      <th>device_model</th>\n",
       "      <th>operating_system</th>\n",
       "      <th>app_usage_time_min_day</th>\n",
       "      <th>screen_on_time_hours_day</th>\n",
       "      <th>battery_drain_mah_day</th>\n",
       "      <th>number_of_apps_installed</th>\n",
       "      <th>data_usage_mb_day</th>\n",
       "      <th>age</th>\n",
       "      <th>gender</th>\n",
       "      <th>user_behavior_class</th>\n",
       "    </tr>\n",
       "  </thead>\n",
       "  <tbody>\n",
       "    <tr>\n",
       "      <th>0</th>\n",
       "      <td>1</td>\n",
       "      <td>google pixel 5</td>\n",
       "      <td>android</td>\n",
       "      <td>393</td>\n",
       "      <td>6.4</td>\n",
       "      <td>1872</td>\n",
       "      <td>67</td>\n",
       "      <td>1122</td>\n",
       "      <td>40</td>\n",
       "      <td>male</td>\n",
       "      <td>4</td>\n",
       "    </tr>\n",
       "    <tr>\n",
       "      <th>1</th>\n",
       "      <td>2</td>\n",
       "      <td>oneplus 9</td>\n",
       "      <td>android</td>\n",
       "      <td>268</td>\n",
       "      <td>4.7</td>\n",
       "      <td>1331</td>\n",
       "      <td>42</td>\n",
       "      <td>944</td>\n",
       "      <td>47</td>\n",
       "      <td>female</td>\n",
       "      <td>3</td>\n",
       "    </tr>\n",
       "    <tr>\n",
       "      <th>2</th>\n",
       "      <td>3</td>\n",
       "      <td>xiaomi mi 11</td>\n",
       "      <td>android</td>\n",
       "      <td>154</td>\n",
       "      <td>4.0</td>\n",
       "      <td>761</td>\n",
       "      <td>32</td>\n",
       "      <td>322</td>\n",
       "      <td>42</td>\n",
       "      <td>male</td>\n",
       "      <td>2</td>\n",
       "    </tr>\n",
       "    <tr>\n",
       "      <th>3</th>\n",
       "      <td>4</td>\n",
       "      <td>google pixel 5</td>\n",
       "      <td>android</td>\n",
       "      <td>239</td>\n",
       "      <td>4.8</td>\n",
       "      <td>1676</td>\n",
       "      <td>56</td>\n",
       "      <td>871</td>\n",
       "      <td>20</td>\n",
       "      <td>male</td>\n",
       "      <td>3</td>\n",
       "    </tr>\n",
       "    <tr>\n",
       "      <th>4</th>\n",
       "      <td>5</td>\n",
       "      <td>iphone 12</td>\n",
       "      <td>ios</td>\n",
       "      <td>187</td>\n",
       "      <td>4.3</td>\n",
       "      <td>1367</td>\n",
       "      <td>58</td>\n",
       "      <td>988</td>\n",
       "      <td>31</td>\n",
       "      <td>female</td>\n",
       "      <td>3</td>\n",
       "    </tr>\n",
       "  </tbody>\n",
       "</table>\n",
       "</div>"
      ],
      "text/plain": [
       "   user_id    device_model operating_system  app_usage_time_min_day  \\\n",
       "0        1  google pixel 5          android                     393   \n",
       "1        2       oneplus 9          android                     268   \n",
       "2        3    xiaomi mi 11          android                     154   \n",
       "3        4  google pixel 5          android                     239   \n",
       "4        5       iphone 12              ios                     187   \n",
       "\n",
       "   screen_on_time_hours_day  battery_drain_mah_day  number_of_apps_installed  \\\n",
       "0                       6.4                   1872                        67   \n",
       "1                       4.7                   1331                        42   \n",
       "2                       4.0                    761                        32   \n",
       "3                       4.8                   1676                        56   \n",
       "4                       4.3                   1367                        58   \n",
       "\n",
       "   data_usage_mb_day  age  gender  user_behavior_class  \n",
       "0               1122   40    male                    4  \n",
       "1                944   47  female                    3  \n",
       "2                322   42    male                    2  \n",
       "3                871   20    male                    3  \n",
       "4                988   31  female                    3  "
      ]
     },
     "execution_count": 28,
     "metadata": {},
     "output_type": "execute_result"
    }
   ],
   "source": [
    "df_1.head()"
   ]
  },
  {
   "cell_type": "code",
   "execution_count": 30,
   "metadata": {},
   "outputs": [
    {
     "name": "stdout",
     "output_type": "stream",
     "text": [
      "<class 'pandas.core.frame.DataFrame'>\n",
      "Index: 51282 entries, 0 to 51289\n",
      "Data columns (total 16 columns):\n",
      " #   Column               Non-Null Count  Dtype         \n",
      "---  ------               --------------  -----         \n",
      " 0   order_date           51282 non-null  datetime64[ns]\n",
      " 1   time                 51282 non-null  object        \n",
      " 2   aging                51282 non-null  float64       \n",
      " 3   customer_id          51282 non-null  int64         \n",
      " 4   gender               51282 non-null  category      \n",
      " 5   device_type          51282 non-null  category      \n",
      " 6   customer_login_type  51282 non-null  category      \n",
      " 7   product_category     51282 non-null  category      \n",
      " 8   product              51282 non-null  object        \n",
      " 9   sales                51282 non-null  float64       \n",
      " 10  quantity             51282 non-null  float64       \n",
      " 11  discount             51282 non-null  float64       \n",
      " 12  profit               51282 non-null  float64       \n",
      " 13  shipping_cost        51282 non-null  float64       \n",
      " 14  order_priority       51282 non-null  category      \n",
      " 15  payment_method       51282 non-null  category      \n",
      "dtypes: category(6), datetime64[ns](1), float64(6), int64(1), object(2)\n",
      "memory usage: 4.6+ MB\n"
     ]
    }
   ],
   "source": [
    "df_2.info()"
   ]
  },
  {
   "cell_type": "code",
   "execution_count": 28,
   "metadata": {},
   "outputs": [
    {
     "data": {
      "text/html": [
       "<div>\n",
       "<style scoped>\n",
       "    .dataframe tbody tr th:only-of-type {\n",
       "        vertical-align: middle;\n",
       "    }\n",
       "\n",
       "    .dataframe tbody tr th {\n",
       "        vertical-align: top;\n",
       "    }\n",
       "\n",
       "    .dataframe thead th {\n",
       "        text-align: right;\n",
       "    }\n",
       "</style>\n",
       "<table border=\"1\" class=\"dataframe\">\n",
       "  <thead>\n",
       "    <tr style=\"text-align: right;\">\n",
       "      <th></th>\n",
       "      <th>order_date</th>\n",
       "      <th>time</th>\n",
       "      <th>aging</th>\n",
       "      <th>customer_id</th>\n",
       "      <th>gender</th>\n",
       "      <th>device_type</th>\n",
       "      <th>customer_login_type</th>\n",
       "      <th>product_category</th>\n",
       "      <th>product</th>\n",
       "      <th>sales</th>\n",
       "      <th>quantity</th>\n",
       "      <th>discount</th>\n",
       "      <th>profit</th>\n",
       "      <th>shipping_cost</th>\n",
       "      <th>order_priority</th>\n",
       "      <th>payment_method</th>\n",
       "    </tr>\n",
       "  </thead>\n",
       "  <tbody>\n",
       "    <tr>\n",
       "      <th>0</th>\n",
       "      <td>2018-01-02</td>\n",
       "      <td>10:56:33</td>\n",
       "      <td>8.0</td>\n",
       "      <td>37077</td>\n",
       "      <td>female</td>\n",
       "      <td>web</td>\n",
       "      <td>member</td>\n",
       "      <td>auto &amp; accessories</td>\n",
       "      <td>Car Media Players</td>\n",
       "      <td>140.0</td>\n",
       "      <td>1.0</td>\n",
       "      <td>0.3</td>\n",
       "      <td>46.0</td>\n",
       "      <td>4.6</td>\n",
       "      <td>medium</td>\n",
       "      <td>credit_card</td>\n",
       "    </tr>\n",
       "    <tr>\n",
       "      <th>1</th>\n",
       "      <td>2018-07-24</td>\n",
       "      <td>20:41:37</td>\n",
       "      <td>2.0</td>\n",
       "      <td>59173</td>\n",
       "      <td>female</td>\n",
       "      <td>web</td>\n",
       "      <td>member</td>\n",
       "      <td>auto &amp; accessories</td>\n",
       "      <td>Car Speakers</td>\n",
       "      <td>211.0</td>\n",
       "      <td>1.0</td>\n",
       "      <td>0.3</td>\n",
       "      <td>112.0</td>\n",
       "      <td>11.2</td>\n",
       "      <td>medium</td>\n",
       "      <td>credit_card</td>\n",
       "    </tr>\n",
       "    <tr>\n",
       "      <th>2</th>\n",
       "      <td>2018-11-08</td>\n",
       "      <td>08:38:49</td>\n",
       "      <td>8.0</td>\n",
       "      <td>41066</td>\n",
       "      <td>female</td>\n",
       "      <td>web</td>\n",
       "      <td>member</td>\n",
       "      <td>auto &amp; accessories</td>\n",
       "      <td>Car Body Covers</td>\n",
       "      <td>117.0</td>\n",
       "      <td>5.0</td>\n",
       "      <td>0.1</td>\n",
       "      <td>31.2</td>\n",
       "      <td>3.1</td>\n",
       "      <td>critical</td>\n",
       "      <td>credit_card</td>\n",
       "    </tr>\n",
       "    <tr>\n",
       "      <th>3</th>\n",
       "      <td>2018-04-18</td>\n",
       "      <td>19:28:06</td>\n",
       "      <td>7.0</td>\n",
       "      <td>50741</td>\n",
       "      <td>female</td>\n",
       "      <td>web</td>\n",
       "      <td>member</td>\n",
       "      <td>auto &amp; accessories</td>\n",
       "      <td>Car &amp; Bike Care</td>\n",
       "      <td>118.0</td>\n",
       "      <td>1.0</td>\n",
       "      <td>0.3</td>\n",
       "      <td>26.2</td>\n",
       "      <td>2.6</td>\n",
       "      <td>high</td>\n",
       "      <td>credit_card</td>\n",
       "    </tr>\n",
       "    <tr>\n",
       "      <th>4</th>\n",
       "      <td>2018-08-13</td>\n",
       "      <td>21:18:39</td>\n",
       "      <td>9.0</td>\n",
       "      <td>53639</td>\n",
       "      <td>female</td>\n",
       "      <td>web</td>\n",
       "      <td>member</td>\n",
       "      <td>auto &amp; accessories</td>\n",
       "      <td>Tyre</td>\n",
       "      <td>250.0</td>\n",
       "      <td>1.0</td>\n",
       "      <td>0.3</td>\n",
       "      <td>160.0</td>\n",
       "      <td>16.0</td>\n",
       "      <td>critical</td>\n",
       "      <td>credit_card</td>\n",
       "    </tr>\n",
       "  </tbody>\n",
       "</table>\n",
       "</div>"
      ],
      "text/plain": [
       "  order_date      time  aging  customer_id  gender device_type  \\\n",
       "0 2018-01-02  10:56:33    8.0        37077  female         web   \n",
       "1 2018-07-24  20:41:37    2.0        59173  female         web   \n",
       "2 2018-11-08  08:38:49    8.0        41066  female         web   \n",
       "3 2018-04-18  19:28:06    7.0        50741  female         web   \n",
       "4 2018-08-13  21:18:39    9.0        53639  female         web   \n",
       "\n",
       "  customer_login_type    product_category            product  sales  quantity  \\\n",
       "0              member  auto & accessories  Car Media Players  140.0       1.0   \n",
       "1              member  auto & accessories       Car Speakers  211.0       1.0   \n",
       "2              member  auto & accessories    Car Body Covers  117.0       5.0   \n",
       "3              member  auto & accessories    Car & Bike Care  118.0       1.0   \n",
       "4              member  auto & accessories               Tyre  250.0       1.0   \n",
       "\n",
       "   discount  profit  shipping_cost order_priority payment_method  \n",
       "0       0.3    46.0            4.6         medium    credit_card  \n",
       "1       0.3   112.0           11.2         medium    credit_card  \n",
       "2       0.1    31.2            3.1       critical    credit_card  \n",
       "3       0.3    26.2            2.6           high    credit_card  \n",
       "4       0.3   160.0           16.0       critical    credit_card  "
      ]
     },
     "execution_count": 28,
     "metadata": {},
     "output_type": "execute_result"
    }
   ],
   "source": [
    "df_2.head()"
   ]
  },
  {
   "cell_type": "markdown",
   "metadata": {},
   "source": [
    "<div style=\"background-color:#909090;color:black;\">\n",
    "\n",
    "### 3.4. Guardado de Datasets limpios\n",
    "</div>"
   ]
  },
  {
   "cell_type": "markdown",
   "metadata": {},
   "source": [
    "Una vez limpios y estandarizadas las variables de ambos Datasets, es hora de guardarlos como CSVs diferenciados de los originales."
   ]
  },
  {
   "cell_type": "code",
   "execution_count": null,
   "metadata": {},
   "outputs": [],
   "source": [
    "# Guardamos el Dataframe 1 como copia limpia del Dataset 1\n",
    "\n",
    "df_1.to_csv('data/cleaned_user_behavior.csv', index=False)"
   ]
  },
  {
   "cell_type": "code",
   "execution_count": 30,
   "metadata": {},
   "outputs": [],
   "source": [
    "# Guardamos el Dataframe 2 como copia limpia del Dataset 2\n",
    "df_2.to_csv('data/cleaned_ecommerce.csv', index=False)"
   ]
  },
  {
   "cell_type": "markdown",
   "metadata": {},
   "source": []
  }
 ],
 "metadata": {
  "kernelspec": {
   "display_name": "Python 3",
   "language": "python",
   "name": "python3"
  },
  "language_info": {
   "codemirror_mode": {
    "name": "ipython",
    "version": 3
   },
   "file_extension": ".py",
   "mimetype": "text/x-python",
   "name": "python",
   "nbconvert_exporter": "python",
   "pygments_lexer": "ipython3",
   "version": "3.11.0"
  },
  "orig_nbformat": 4
 },
 "nbformat": 4,
 "nbformat_minor": 2
}
